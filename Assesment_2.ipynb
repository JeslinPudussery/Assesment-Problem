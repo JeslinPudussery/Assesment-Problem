{
  "cells": [
    {
      "cell_type": "code",
      "execution_count": 16,
      "metadata": {
        "id": "Bfdd1zFaOVSF"
      },
      "outputs": [],
      "source": [
        "import numpy as np\n",
        "import pandas as pd\n",
        "import matplotlib.pyplot as plt\n",
        "import seaborn as sns"
      ]
    },
    {
      "cell_type": "code",
      "execution_count": 17,
      "metadata": {
        "id": "iOeSPdPQmtAQ"
      },
      "outputs": [],
      "source": [
        "\n",
        "train_data=pd.read_csv('train_ctrUa4K.csv')\n",
        "test_data=pd.read_csv('test_lAUu6dG.csv')"
      ]
    },
    {
      "cell_type": "code",
      "execution_count": 18,
      "metadata": {
        "colab": {
          "base_uri": "https://localhost:8080/",
          "height": 288
        },
        "id": "Cu-cBkS0m-hl",
        "outputId": "63e7adac-0eda-469f-9d89-adfab5890557"
      },
      "outputs": [
        {
          "output_type": "execute_result",
          "data": {
            "text/plain": [
              "    Loan_ID Gender Married Dependents     Education Self_Employed  \\\n",
              "0  LP001002   Male      No          0      Graduate            No   \n",
              "1  LP001003   Male     Yes          1      Graduate            No   \n",
              "2  LP001005   Male     Yes          0      Graduate           Yes   \n",
              "3  LP001006   Male     Yes          0  Not Graduate            No   \n",
              "4  LP001008   Male      No          0      Graduate            No   \n",
              "\n",
              "   ApplicantIncome  CoapplicantIncome  LoanAmount  Loan_Amount_Term  \\\n",
              "0             5849                0.0         NaN             360.0   \n",
              "1             4583             1508.0       128.0             360.0   \n",
              "2             3000                0.0        66.0             360.0   \n",
              "3             2583             2358.0       120.0             360.0   \n",
              "4             6000                0.0       141.0             360.0   \n",
              "\n",
              "   Credit_History Property_Area Loan_Status  \n",
              "0             1.0         Urban           Y  \n",
              "1             1.0         Rural           N  \n",
              "2             1.0         Urban           Y  \n",
              "3             1.0         Urban           Y  \n",
              "4             1.0         Urban           Y  "
            ],
            "text/html": [
              "\n",
              "  <div id=\"df-8ee17663-5402-4f16-9ed3-7f80677545b4\">\n",
              "    <div class=\"colab-df-container\">\n",
              "      <div>\n",
              "<style scoped>\n",
              "    .dataframe tbody tr th:only-of-type {\n",
              "        vertical-align: middle;\n",
              "    }\n",
              "\n",
              "    .dataframe tbody tr th {\n",
              "        vertical-align: top;\n",
              "    }\n",
              "\n",
              "    .dataframe thead th {\n",
              "        text-align: right;\n",
              "    }\n",
              "</style>\n",
              "<table border=\"1\" class=\"dataframe\">\n",
              "  <thead>\n",
              "    <tr style=\"text-align: right;\">\n",
              "      <th></th>\n",
              "      <th>Loan_ID</th>\n",
              "      <th>Gender</th>\n",
              "      <th>Married</th>\n",
              "      <th>Dependents</th>\n",
              "      <th>Education</th>\n",
              "      <th>Self_Employed</th>\n",
              "      <th>ApplicantIncome</th>\n",
              "      <th>CoapplicantIncome</th>\n",
              "      <th>LoanAmount</th>\n",
              "      <th>Loan_Amount_Term</th>\n",
              "      <th>Credit_History</th>\n",
              "      <th>Property_Area</th>\n",
              "      <th>Loan_Status</th>\n",
              "    </tr>\n",
              "  </thead>\n",
              "  <tbody>\n",
              "    <tr>\n",
              "      <th>0</th>\n",
              "      <td>LP001002</td>\n",
              "      <td>Male</td>\n",
              "      <td>No</td>\n",
              "      <td>0</td>\n",
              "      <td>Graduate</td>\n",
              "      <td>No</td>\n",
              "      <td>5849</td>\n",
              "      <td>0.0</td>\n",
              "      <td>NaN</td>\n",
              "      <td>360.0</td>\n",
              "      <td>1.0</td>\n",
              "      <td>Urban</td>\n",
              "      <td>Y</td>\n",
              "    </tr>\n",
              "    <tr>\n",
              "      <th>1</th>\n",
              "      <td>LP001003</td>\n",
              "      <td>Male</td>\n",
              "      <td>Yes</td>\n",
              "      <td>1</td>\n",
              "      <td>Graduate</td>\n",
              "      <td>No</td>\n",
              "      <td>4583</td>\n",
              "      <td>1508.0</td>\n",
              "      <td>128.0</td>\n",
              "      <td>360.0</td>\n",
              "      <td>1.0</td>\n",
              "      <td>Rural</td>\n",
              "      <td>N</td>\n",
              "    </tr>\n",
              "    <tr>\n",
              "      <th>2</th>\n",
              "      <td>LP001005</td>\n",
              "      <td>Male</td>\n",
              "      <td>Yes</td>\n",
              "      <td>0</td>\n",
              "      <td>Graduate</td>\n",
              "      <td>Yes</td>\n",
              "      <td>3000</td>\n",
              "      <td>0.0</td>\n",
              "      <td>66.0</td>\n",
              "      <td>360.0</td>\n",
              "      <td>1.0</td>\n",
              "      <td>Urban</td>\n",
              "      <td>Y</td>\n",
              "    </tr>\n",
              "    <tr>\n",
              "      <th>3</th>\n",
              "      <td>LP001006</td>\n",
              "      <td>Male</td>\n",
              "      <td>Yes</td>\n",
              "      <td>0</td>\n",
              "      <td>Not Graduate</td>\n",
              "      <td>No</td>\n",
              "      <td>2583</td>\n",
              "      <td>2358.0</td>\n",
              "      <td>120.0</td>\n",
              "      <td>360.0</td>\n",
              "      <td>1.0</td>\n",
              "      <td>Urban</td>\n",
              "      <td>Y</td>\n",
              "    </tr>\n",
              "    <tr>\n",
              "      <th>4</th>\n",
              "      <td>LP001008</td>\n",
              "      <td>Male</td>\n",
              "      <td>No</td>\n",
              "      <td>0</td>\n",
              "      <td>Graduate</td>\n",
              "      <td>No</td>\n",
              "      <td>6000</td>\n",
              "      <td>0.0</td>\n",
              "      <td>141.0</td>\n",
              "      <td>360.0</td>\n",
              "      <td>1.0</td>\n",
              "      <td>Urban</td>\n",
              "      <td>Y</td>\n",
              "    </tr>\n",
              "  </tbody>\n",
              "</table>\n",
              "</div>\n",
              "      <button class=\"colab-df-convert\" onclick=\"convertToInteractive('df-8ee17663-5402-4f16-9ed3-7f80677545b4')\"\n",
              "              title=\"Convert this dataframe to an interactive table.\"\n",
              "              style=\"display:none;\">\n",
              "        \n",
              "  <svg xmlns=\"http://www.w3.org/2000/svg\" height=\"24px\"viewBox=\"0 0 24 24\"\n",
              "       width=\"24px\">\n",
              "    <path d=\"M0 0h24v24H0V0z\" fill=\"none\"/>\n",
              "    <path d=\"M18.56 5.44l.94 2.06.94-2.06 2.06-.94-2.06-.94-.94-2.06-.94 2.06-2.06.94zm-11 1L8.5 8.5l.94-2.06 2.06-.94-2.06-.94L8.5 2.5l-.94 2.06-2.06.94zm10 10l.94 2.06.94-2.06 2.06-.94-2.06-.94-.94-2.06-.94 2.06-2.06.94z\"/><path d=\"M17.41 7.96l-1.37-1.37c-.4-.4-.92-.59-1.43-.59-.52 0-1.04.2-1.43.59L10.3 9.45l-7.72 7.72c-.78.78-.78 2.05 0 2.83L4 21.41c.39.39.9.59 1.41.59.51 0 1.02-.2 1.41-.59l7.78-7.78 2.81-2.81c.8-.78.8-2.07 0-2.86zM5.41 20L4 18.59l7.72-7.72 1.47 1.35L5.41 20z\"/>\n",
              "  </svg>\n",
              "      </button>\n",
              "      \n",
              "  <style>\n",
              "    .colab-df-container {\n",
              "      display:flex;\n",
              "      flex-wrap:wrap;\n",
              "      gap: 12px;\n",
              "    }\n",
              "\n",
              "    .colab-df-convert {\n",
              "      background-color: #E8F0FE;\n",
              "      border: none;\n",
              "      border-radius: 50%;\n",
              "      cursor: pointer;\n",
              "      display: none;\n",
              "      fill: #1967D2;\n",
              "      height: 32px;\n",
              "      padding: 0 0 0 0;\n",
              "      width: 32px;\n",
              "    }\n",
              "\n",
              "    .colab-df-convert:hover {\n",
              "      background-color: #E2EBFA;\n",
              "      box-shadow: 0px 1px 2px rgba(60, 64, 67, 0.3), 0px 1px 3px 1px rgba(60, 64, 67, 0.15);\n",
              "      fill: #174EA6;\n",
              "    }\n",
              "\n",
              "    [theme=dark] .colab-df-convert {\n",
              "      background-color: #3B4455;\n",
              "      fill: #D2E3FC;\n",
              "    }\n",
              "\n",
              "    [theme=dark] .colab-df-convert:hover {\n",
              "      background-color: #434B5C;\n",
              "      box-shadow: 0px 1px 3px 1px rgba(0, 0, 0, 0.15);\n",
              "      filter: drop-shadow(0px 1px 2px rgba(0, 0, 0, 0.3));\n",
              "      fill: #FFFFFF;\n",
              "    }\n",
              "  </style>\n",
              "\n",
              "      <script>\n",
              "        const buttonEl =\n",
              "          document.querySelector('#df-8ee17663-5402-4f16-9ed3-7f80677545b4 button.colab-df-convert');\n",
              "        buttonEl.style.display =\n",
              "          google.colab.kernel.accessAllowed ? 'block' : 'none';\n",
              "\n",
              "        async function convertToInteractive(key) {\n",
              "          const element = document.querySelector('#df-8ee17663-5402-4f16-9ed3-7f80677545b4');\n",
              "          const dataTable =\n",
              "            await google.colab.kernel.invokeFunction('convertToInteractive',\n",
              "                                                     [key], {});\n",
              "          if (!dataTable) return;\n",
              "\n",
              "          const docLinkHtml = 'Like what you see? Visit the ' +\n",
              "            '<a target=\"_blank\" href=https://colab.research.google.com/notebooks/data_table.ipynb>data table notebook</a>'\n",
              "            + ' to learn more about interactive tables.';\n",
              "          element.innerHTML = '';\n",
              "          dataTable['output_type'] = 'display_data';\n",
              "          await google.colab.output.renderOutput(dataTable, element);\n",
              "          const docLink = document.createElement('div');\n",
              "          docLink.innerHTML = docLinkHtml;\n",
              "          element.appendChild(docLink);\n",
              "        }\n",
              "      </script>\n",
              "    </div>\n",
              "  </div>\n",
              "  "
            ]
          },
          "metadata": {},
          "execution_count": 18
        }
      ],
      "source": [
        "train_data.head()"
      ]
    },
    {
      "cell_type": "code",
      "execution_count": 19,
      "metadata": {
        "colab": {
          "base_uri": "https://localhost:8080/",
          "height": 288
        },
        "id": "bqghKt5OnHZp",
        "outputId": "938f8532-03a5-4e08-de43-4cd3f85527af"
      },
      "outputs": [
        {
          "output_type": "execute_result",
          "data": {
            "text/plain": [
              "    Loan_ID Gender Married Dependents     Education Self_Employed  \\\n",
              "0  LP001015   Male     Yes          0      Graduate            No   \n",
              "1  LP001022   Male     Yes          1      Graduate            No   \n",
              "2  LP001031   Male     Yes          2      Graduate            No   \n",
              "3  LP001035   Male     Yes          2      Graduate            No   \n",
              "4  LP001051   Male      No          0  Not Graduate            No   \n",
              "\n",
              "   ApplicantIncome  CoapplicantIncome  LoanAmount  Loan_Amount_Term  \\\n",
              "0             5720                  0       110.0             360.0   \n",
              "1             3076               1500       126.0             360.0   \n",
              "2             5000               1800       208.0             360.0   \n",
              "3             2340               2546       100.0             360.0   \n",
              "4             3276                  0        78.0             360.0   \n",
              "\n",
              "   Credit_History Property_Area  \n",
              "0             1.0         Urban  \n",
              "1             1.0         Urban  \n",
              "2             1.0         Urban  \n",
              "3             NaN         Urban  \n",
              "4             1.0         Urban  "
            ],
            "text/html": [
              "\n",
              "  <div id=\"df-1a5779c0-3217-4f8d-9d83-e86d35943cef\">\n",
              "    <div class=\"colab-df-container\">\n",
              "      <div>\n",
              "<style scoped>\n",
              "    .dataframe tbody tr th:only-of-type {\n",
              "        vertical-align: middle;\n",
              "    }\n",
              "\n",
              "    .dataframe tbody tr th {\n",
              "        vertical-align: top;\n",
              "    }\n",
              "\n",
              "    .dataframe thead th {\n",
              "        text-align: right;\n",
              "    }\n",
              "</style>\n",
              "<table border=\"1\" class=\"dataframe\">\n",
              "  <thead>\n",
              "    <tr style=\"text-align: right;\">\n",
              "      <th></th>\n",
              "      <th>Loan_ID</th>\n",
              "      <th>Gender</th>\n",
              "      <th>Married</th>\n",
              "      <th>Dependents</th>\n",
              "      <th>Education</th>\n",
              "      <th>Self_Employed</th>\n",
              "      <th>ApplicantIncome</th>\n",
              "      <th>CoapplicantIncome</th>\n",
              "      <th>LoanAmount</th>\n",
              "      <th>Loan_Amount_Term</th>\n",
              "      <th>Credit_History</th>\n",
              "      <th>Property_Area</th>\n",
              "    </tr>\n",
              "  </thead>\n",
              "  <tbody>\n",
              "    <tr>\n",
              "      <th>0</th>\n",
              "      <td>LP001015</td>\n",
              "      <td>Male</td>\n",
              "      <td>Yes</td>\n",
              "      <td>0</td>\n",
              "      <td>Graduate</td>\n",
              "      <td>No</td>\n",
              "      <td>5720</td>\n",
              "      <td>0</td>\n",
              "      <td>110.0</td>\n",
              "      <td>360.0</td>\n",
              "      <td>1.0</td>\n",
              "      <td>Urban</td>\n",
              "    </tr>\n",
              "    <tr>\n",
              "      <th>1</th>\n",
              "      <td>LP001022</td>\n",
              "      <td>Male</td>\n",
              "      <td>Yes</td>\n",
              "      <td>1</td>\n",
              "      <td>Graduate</td>\n",
              "      <td>No</td>\n",
              "      <td>3076</td>\n",
              "      <td>1500</td>\n",
              "      <td>126.0</td>\n",
              "      <td>360.0</td>\n",
              "      <td>1.0</td>\n",
              "      <td>Urban</td>\n",
              "    </tr>\n",
              "    <tr>\n",
              "      <th>2</th>\n",
              "      <td>LP001031</td>\n",
              "      <td>Male</td>\n",
              "      <td>Yes</td>\n",
              "      <td>2</td>\n",
              "      <td>Graduate</td>\n",
              "      <td>No</td>\n",
              "      <td>5000</td>\n",
              "      <td>1800</td>\n",
              "      <td>208.0</td>\n",
              "      <td>360.0</td>\n",
              "      <td>1.0</td>\n",
              "      <td>Urban</td>\n",
              "    </tr>\n",
              "    <tr>\n",
              "      <th>3</th>\n",
              "      <td>LP001035</td>\n",
              "      <td>Male</td>\n",
              "      <td>Yes</td>\n",
              "      <td>2</td>\n",
              "      <td>Graduate</td>\n",
              "      <td>No</td>\n",
              "      <td>2340</td>\n",
              "      <td>2546</td>\n",
              "      <td>100.0</td>\n",
              "      <td>360.0</td>\n",
              "      <td>NaN</td>\n",
              "      <td>Urban</td>\n",
              "    </tr>\n",
              "    <tr>\n",
              "      <th>4</th>\n",
              "      <td>LP001051</td>\n",
              "      <td>Male</td>\n",
              "      <td>No</td>\n",
              "      <td>0</td>\n",
              "      <td>Not Graduate</td>\n",
              "      <td>No</td>\n",
              "      <td>3276</td>\n",
              "      <td>0</td>\n",
              "      <td>78.0</td>\n",
              "      <td>360.0</td>\n",
              "      <td>1.0</td>\n",
              "      <td>Urban</td>\n",
              "    </tr>\n",
              "  </tbody>\n",
              "</table>\n",
              "</div>\n",
              "      <button class=\"colab-df-convert\" onclick=\"convertToInteractive('df-1a5779c0-3217-4f8d-9d83-e86d35943cef')\"\n",
              "              title=\"Convert this dataframe to an interactive table.\"\n",
              "              style=\"display:none;\">\n",
              "        \n",
              "  <svg xmlns=\"http://www.w3.org/2000/svg\" height=\"24px\"viewBox=\"0 0 24 24\"\n",
              "       width=\"24px\">\n",
              "    <path d=\"M0 0h24v24H0V0z\" fill=\"none\"/>\n",
              "    <path d=\"M18.56 5.44l.94 2.06.94-2.06 2.06-.94-2.06-.94-.94-2.06-.94 2.06-2.06.94zm-11 1L8.5 8.5l.94-2.06 2.06-.94-2.06-.94L8.5 2.5l-.94 2.06-2.06.94zm10 10l.94 2.06.94-2.06 2.06-.94-2.06-.94-.94-2.06-.94 2.06-2.06.94z\"/><path d=\"M17.41 7.96l-1.37-1.37c-.4-.4-.92-.59-1.43-.59-.52 0-1.04.2-1.43.59L10.3 9.45l-7.72 7.72c-.78.78-.78 2.05 0 2.83L4 21.41c.39.39.9.59 1.41.59.51 0 1.02-.2 1.41-.59l7.78-7.78 2.81-2.81c.8-.78.8-2.07 0-2.86zM5.41 20L4 18.59l7.72-7.72 1.47 1.35L5.41 20z\"/>\n",
              "  </svg>\n",
              "      </button>\n",
              "      \n",
              "  <style>\n",
              "    .colab-df-container {\n",
              "      display:flex;\n",
              "      flex-wrap:wrap;\n",
              "      gap: 12px;\n",
              "    }\n",
              "\n",
              "    .colab-df-convert {\n",
              "      background-color: #E8F0FE;\n",
              "      border: none;\n",
              "      border-radius: 50%;\n",
              "      cursor: pointer;\n",
              "      display: none;\n",
              "      fill: #1967D2;\n",
              "      height: 32px;\n",
              "      padding: 0 0 0 0;\n",
              "      width: 32px;\n",
              "    }\n",
              "\n",
              "    .colab-df-convert:hover {\n",
              "      background-color: #E2EBFA;\n",
              "      box-shadow: 0px 1px 2px rgba(60, 64, 67, 0.3), 0px 1px 3px 1px rgba(60, 64, 67, 0.15);\n",
              "      fill: #174EA6;\n",
              "    }\n",
              "\n",
              "    [theme=dark] .colab-df-convert {\n",
              "      background-color: #3B4455;\n",
              "      fill: #D2E3FC;\n",
              "    }\n",
              "\n",
              "    [theme=dark] .colab-df-convert:hover {\n",
              "      background-color: #434B5C;\n",
              "      box-shadow: 0px 1px 3px 1px rgba(0, 0, 0, 0.15);\n",
              "      filter: drop-shadow(0px 1px 2px rgba(0, 0, 0, 0.3));\n",
              "      fill: #FFFFFF;\n",
              "    }\n",
              "  </style>\n",
              "\n",
              "      <script>\n",
              "        const buttonEl =\n",
              "          document.querySelector('#df-1a5779c0-3217-4f8d-9d83-e86d35943cef button.colab-df-convert');\n",
              "        buttonEl.style.display =\n",
              "          google.colab.kernel.accessAllowed ? 'block' : 'none';\n",
              "\n",
              "        async function convertToInteractive(key) {\n",
              "          const element = document.querySelector('#df-1a5779c0-3217-4f8d-9d83-e86d35943cef');\n",
              "          const dataTable =\n",
              "            await google.colab.kernel.invokeFunction('convertToInteractive',\n",
              "                                                     [key], {});\n",
              "          if (!dataTable) return;\n",
              "\n",
              "          const docLinkHtml = 'Like what you see? Visit the ' +\n",
              "            '<a target=\"_blank\" href=https://colab.research.google.com/notebooks/data_table.ipynb>data table notebook</a>'\n",
              "            + ' to learn more about interactive tables.';\n",
              "          element.innerHTML = '';\n",
              "          dataTable['output_type'] = 'display_data';\n",
              "          await google.colab.output.renderOutput(dataTable, element);\n",
              "          const docLink = document.createElement('div');\n",
              "          docLink.innerHTML = docLinkHtml;\n",
              "          element.appendChild(docLink);\n",
              "        }\n",
              "      </script>\n",
              "    </div>\n",
              "  </div>\n",
              "  "
            ]
          },
          "metadata": {},
          "execution_count": 19
        }
      ],
      "source": [
        "test_data.head()"
      ]
    },
    {
      "cell_type": "code",
      "execution_count": 20,
      "metadata": {
        "colab": {
          "base_uri": "https://localhost:8080/"
        },
        "id": "UHWk1I-tnRjO",
        "outputId": "0be7509b-631d-4289-f762-d3973d38d934"
      },
      "outputs": [
        {
          "output_type": "execute_result",
          "data": {
            "text/plain": [
              "(614, 13)"
            ]
          },
          "metadata": {},
          "execution_count": 20
        }
      ],
      "source": [
        "train_data.shape"
      ]
    },
    {
      "cell_type": "code",
      "execution_count": 21,
      "metadata": {
        "colab": {
          "base_uri": "https://localhost:8080/"
        },
        "id": "e_cQ9x1_nUg0",
        "outputId": "5d88dd08-8650-4282-c831-be09bff6381b"
      },
      "outputs": [
        {
          "output_type": "execute_result",
          "data": {
            "text/plain": [
              "(367, 12)"
            ]
          },
          "metadata": {},
          "execution_count": 21
        }
      ],
      "source": [
        "test_data.shape"
      ]
    },
    {
      "cell_type": "code",
      "execution_count": 22,
      "metadata": {
        "colab": {
          "base_uri": "https://localhost:8080/",
          "height": 300
        },
        "id": "bLC8uzrVnWk_",
        "outputId": "4573bc2d-4318-4850-bebf-b239604d6bc6"
      },
      "outputs": [
        {
          "output_type": "execute_result",
          "data": {
            "text/plain": [
              "       ApplicantIncome  CoapplicantIncome  LoanAmount  Loan_Amount_Term  \\\n",
              "count       614.000000         614.000000  592.000000         600.00000   \n",
              "mean       5403.459283        1621.245798  146.412162         342.00000   \n",
              "std        6109.041673        2926.248369   85.587325          65.12041   \n",
              "min         150.000000           0.000000    9.000000          12.00000   \n",
              "25%        2877.500000           0.000000  100.000000         360.00000   \n",
              "50%        3812.500000        1188.500000  128.000000         360.00000   \n",
              "75%        5795.000000        2297.250000  168.000000         360.00000   \n",
              "max       81000.000000       41667.000000  700.000000         480.00000   \n",
              "\n",
              "       Credit_History  \n",
              "count      564.000000  \n",
              "mean         0.842199  \n",
              "std          0.364878  \n",
              "min          0.000000  \n",
              "25%          1.000000  \n",
              "50%          1.000000  \n",
              "75%          1.000000  \n",
              "max          1.000000  "
            ],
            "text/html": [
              "\n",
              "  <div id=\"df-a5847575-9bed-4737-9bb1-d678cf65031d\">\n",
              "    <div class=\"colab-df-container\">\n",
              "      <div>\n",
              "<style scoped>\n",
              "    .dataframe tbody tr th:only-of-type {\n",
              "        vertical-align: middle;\n",
              "    }\n",
              "\n",
              "    .dataframe tbody tr th {\n",
              "        vertical-align: top;\n",
              "    }\n",
              "\n",
              "    .dataframe thead th {\n",
              "        text-align: right;\n",
              "    }\n",
              "</style>\n",
              "<table border=\"1\" class=\"dataframe\">\n",
              "  <thead>\n",
              "    <tr style=\"text-align: right;\">\n",
              "      <th></th>\n",
              "      <th>ApplicantIncome</th>\n",
              "      <th>CoapplicantIncome</th>\n",
              "      <th>LoanAmount</th>\n",
              "      <th>Loan_Amount_Term</th>\n",
              "      <th>Credit_History</th>\n",
              "    </tr>\n",
              "  </thead>\n",
              "  <tbody>\n",
              "    <tr>\n",
              "      <th>count</th>\n",
              "      <td>614.000000</td>\n",
              "      <td>614.000000</td>\n",
              "      <td>592.000000</td>\n",
              "      <td>600.00000</td>\n",
              "      <td>564.000000</td>\n",
              "    </tr>\n",
              "    <tr>\n",
              "      <th>mean</th>\n",
              "      <td>5403.459283</td>\n",
              "      <td>1621.245798</td>\n",
              "      <td>146.412162</td>\n",
              "      <td>342.00000</td>\n",
              "      <td>0.842199</td>\n",
              "    </tr>\n",
              "    <tr>\n",
              "      <th>std</th>\n",
              "      <td>6109.041673</td>\n",
              "      <td>2926.248369</td>\n",
              "      <td>85.587325</td>\n",
              "      <td>65.12041</td>\n",
              "      <td>0.364878</td>\n",
              "    </tr>\n",
              "    <tr>\n",
              "      <th>min</th>\n",
              "      <td>150.000000</td>\n",
              "      <td>0.000000</td>\n",
              "      <td>9.000000</td>\n",
              "      <td>12.00000</td>\n",
              "      <td>0.000000</td>\n",
              "    </tr>\n",
              "    <tr>\n",
              "      <th>25%</th>\n",
              "      <td>2877.500000</td>\n",
              "      <td>0.000000</td>\n",
              "      <td>100.000000</td>\n",
              "      <td>360.00000</td>\n",
              "      <td>1.000000</td>\n",
              "    </tr>\n",
              "    <tr>\n",
              "      <th>50%</th>\n",
              "      <td>3812.500000</td>\n",
              "      <td>1188.500000</td>\n",
              "      <td>128.000000</td>\n",
              "      <td>360.00000</td>\n",
              "      <td>1.000000</td>\n",
              "    </tr>\n",
              "    <tr>\n",
              "      <th>75%</th>\n",
              "      <td>5795.000000</td>\n",
              "      <td>2297.250000</td>\n",
              "      <td>168.000000</td>\n",
              "      <td>360.00000</td>\n",
              "      <td>1.000000</td>\n",
              "    </tr>\n",
              "    <tr>\n",
              "      <th>max</th>\n",
              "      <td>81000.000000</td>\n",
              "      <td>41667.000000</td>\n",
              "      <td>700.000000</td>\n",
              "      <td>480.00000</td>\n",
              "      <td>1.000000</td>\n",
              "    </tr>\n",
              "  </tbody>\n",
              "</table>\n",
              "</div>\n",
              "      <button class=\"colab-df-convert\" onclick=\"convertToInteractive('df-a5847575-9bed-4737-9bb1-d678cf65031d')\"\n",
              "              title=\"Convert this dataframe to an interactive table.\"\n",
              "              style=\"display:none;\">\n",
              "        \n",
              "  <svg xmlns=\"http://www.w3.org/2000/svg\" height=\"24px\"viewBox=\"0 0 24 24\"\n",
              "       width=\"24px\">\n",
              "    <path d=\"M0 0h24v24H0V0z\" fill=\"none\"/>\n",
              "    <path d=\"M18.56 5.44l.94 2.06.94-2.06 2.06-.94-2.06-.94-.94-2.06-.94 2.06-2.06.94zm-11 1L8.5 8.5l.94-2.06 2.06-.94-2.06-.94L8.5 2.5l-.94 2.06-2.06.94zm10 10l.94 2.06.94-2.06 2.06-.94-2.06-.94-.94-2.06-.94 2.06-2.06.94z\"/><path d=\"M17.41 7.96l-1.37-1.37c-.4-.4-.92-.59-1.43-.59-.52 0-1.04.2-1.43.59L10.3 9.45l-7.72 7.72c-.78.78-.78 2.05 0 2.83L4 21.41c.39.39.9.59 1.41.59.51 0 1.02-.2 1.41-.59l7.78-7.78 2.81-2.81c.8-.78.8-2.07 0-2.86zM5.41 20L4 18.59l7.72-7.72 1.47 1.35L5.41 20z\"/>\n",
              "  </svg>\n",
              "      </button>\n",
              "      \n",
              "  <style>\n",
              "    .colab-df-container {\n",
              "      display:flex;\n",
              "      flex-wrap:wrap;\n",
              "      gap: 12px;\n",
              "    }\n",
              "\n",
              "    .colab-df-convert {\n",
              "      background-color: #E8F0FE;\n",
              "      border: none;\n",
              "      border-radius: 50%;\n",
              "      cursor: pointer;\n",
              "      display: none;\n",
              "      fill: #1967D2;\n",
              "      height: 32px;\n",
              "      padding: 0 0 0 0;\n",
              "      width: 32px;\n",
              "    }\n",
              "\n",
              "    .colab-df-convert:hover {\n",
              "      background-color: #E2EBFA;\n",
              "      box-shadow: 0px 1px 2px rgba(60, 64, 67, 0.3), 0px 1px 3px 1px rgba(60, 64, 67, 0.15);\n",
              "      fill: #174EA6;\n",
              "    }\n",
              "\n",
              "    [theme=dark] .colab-df-convert {\n",
              "      background-color: #3B4455;\n",
              "      fill: #D2E3FC;\n",
              "    }\n",
              "\n",
              "    [theme=dark] .colab-df-convert:hover {\n",
              "      background-color: #434B5C;\n",
              "      box-shadow: 0px 1px 3px 1px rgba(0, 0, 0, 0.15);\n",
              "      filter: drop-shadow(0px 1px 2px rgba(0, 0, 0, 0.3));\n",
              "      fill: #FFFFFF;\n",
              "    }\n",
              "  </style>\n",
              "\n",
              "      <script>\n",
              "        const buttonEl =\n",
              "          document.querySelector('#df-a5847575-9bed-4737-9bb1-d678cf65031d button.colab-df-convert');\n",
              "        buttonEl.style.display =\n",
              "          google.colab.kernel.accessAllowed ? 'block' : 'none';\n",
              "\n",
              "        async function convertToInteractive(key) {\n",
              "          const element = document.querySelector('#df-a5847575-9bed-4737-9bb1-d678cf65031d');\n",
              "          const dataTable =\n",
              "            await google.colab.kernel.invokeFunction('convertToInteractive',\n",
              "                                                     [key], {});\n",
              "          if (!dataTable) return;\n",
              "\n",
              "          const docLinkHtml = 'Like what you see? Visit the ' +\n",
              "            '<a target=\"_blank\" href=https://colab.research.google.com/notebooks/data_table.ipynb>data table notebook</a>'\n",
              "            + ' to learn more about interactive tables.';\n",
              "          element.innerHTML = '';\n",
              "          dataTable['output_type'] = 'display_data';\n",
              "          await google.colab.output.renderOutput(dataTable, element);\n",
              "          const docLink = document.createElement('div');\n",
              "          docLink.innerHTML = docLinkHtml;\n",
              "          element.appendChild(docLink);\n",
              "        }\n",
              "      </script>\n",
              "    </div>\n",
              "  </div>\n",
              "  "
            ]
          },
          "metadata": {},
          "execution_count": 22
        }
      ],
      "source": [
        "train_data.describe()"
      ]
    },
    {
      "cell_type": "code",
      "execution_count": 23,
      "metadata": {
        "colab": {
          "base_uri": "https://localhost:8080/",
          "height": 300
        },
        "id": "zb4FbHqInZGy",
        "outputId": "a905850d-6ab1-4eef-8056-d2caaadf1367"
      },
      "outputs": [
        {
          "output_type": "execute_result",
          "data": {
            "text/plain": [
              "       ApplicantIncome  CoapplicantIncome  LoanAmount  Loan_Amount_Term  \\\n",
              "count       367.000000         367.000000  362.000000        361.000000   \n",
              "mean       4805.599455        1569.577657  136.132597        342.537396   \n",
              "std        4910.685399        2334.232099   61.366652         65.156643   \n",
              "min           0.000000           0.000000   28.000000          6.000000   \n",
              "25%        2864.000000           0.000000  100.250000        360.000000   \n",
              "50%        3786.000000        1025.000000  125.000000        360.000000   \n",
              "75%        5060.000000        2430.500000  158.000000        360.000000   \n",
              "max       72529.000000       24000.000000  550.000000        480.000000   \n",
              "\n",
              "       Credit_History  \n",
              "count      338.000000  \n",
              "mean         0.825444  \n",
              "std          0.380150  \n",
              "min          0.000000  \n",
              "25%          1.000000  \n",
              "50%          1.000000  \n",
              "75%          1.000000  \n",
              "max          1.000000  "
            ],
            "text/html": [
              "\n",
              "  <div id=\"df-8b63ce84-ed8a-4cd6-995b-1a9b0d8027e3\">\n",
              "    <div class=\"colab-df-container\">\n",
              "      <div>\n",
              "<style scoped>\n",
              "    .dataframe tbody tr th:only-of-type {\n",
              "        vertical-align: middle;\n",
              "    }\n",
              "\n",
              "    .dataframe tbody tr th {\n",
              "        vertical-align: top;\n",
              "    }\n",
              "\n",
              "    .dataframe thead th {\n",
              "        text-align: right;\n",
              "    }\n",
              "</style>\n",
              "<table border=\"1\" class=\"dataframe\">\n",
              "  <thead>\n",
              "    <tr style=\"text-align: right;\">\n",
              "      <th></th>\n",
              "      <th>ApplicantIncome</th>\n",
              "      <th>CoapplicantIncome</th>\n",
              "      <th>LoanAmount</th>\n",
              "      <th>Loan_Amount_Term</th>\n",
              "      <th>Credit_History</th>\n",
              "    </tr>\n",
              "  </thead>\n",
              "  <tbody>\n",
              "    <tr>\n",
              "      <th>count</th>\n",
              "      <td>367.000000</td>\n",
              "      <td>367.000000</td>\n",
              "      <td>362.000000</td>\n",
              "      <td>361.000000</td>\n",
              "      <td>338.000000</td>\n",
              "    </tr>\n",
              "    <tr>\n",
              "      <th>mean</th>\n",
              "      <td>4805.599455</td>\n",
              "      <td>1569.577657</td>\n",
              "      <td>136.132597</td>\n",
              "      <td>342.537396</td>\n",
              "      <td>0.825444</td>\n",
              "    </tr>\n",
              "    <tr>\n",
              "      <th>std</th>\n",
              "      <td>4910.685399</td>\n",
              "      <td>2334.232099</td>\n",
              "      <td>61.366652</td>\n",
              "      <td>65.156643</td>\n",
              "      <td>0.380150</td>\n",
              "    </tr>\n",
              "    <tr>\n",
              "      <th>min</th>\n",
              "      <td>0.000000</td>\n",
              "      <td>0.000000</td>\n",
              "      <td>28.000000</td>\n",
              "      <td>6.000000</td>\n",
              "      <td>0.000000</td>\n",
              "    </tr>\n",
              "    <tr>\n",
              "      <th>25%</th>\n",
              "      <td>2864.000000</td>\n",
              "      <td>0.000000</td>\n",
              "      <td>100.250000</td>\n",
              "      <td>360.000000</td>\n",
              "      <td>1.000000</td>\n",
              "    </tr>\n",
              "    <tr>\n",
              "      <th>50%</th>\n",
              "      <td>3786.000000</td>\n",
              "      <td>1025.000000</td>\n",
              "      <td>125.000000</td>\n",
              "      <td>360.000000</td>\n",
              "      <td>1.000000</td>\n",
              "    </tr>\n",
              "    <tr>\n",
              "      <th>75%</th>\n",
              "      <td>5060.000000</td>\n",
              "      <td>2430.500000</td>\n",
              "      <td>158.000000</td>\n",
              "      <td>360.000000</td>\n",
              "      <td>1.000000</td>\n",
              "    </tr>\n",
              "    <tr>\n",
              "      <th>max</th>\n",
              "      <td>72529.000000</td>\n",
              "      <td>24000.000000</td>\n",
              "      <td>550.000000</td>\n",
              "      <td>480.000000</td>\n",
              "      <td>1.000000</td>\n",
              "    </tr>\n",
              "  </tbody>\n",
              "</table>\n",
              "</div>\n",
              "      <button class=\"colab-df-convert\" onclick=\"convertToInteractive('df-8b63ce84-ed8a-4cd6-995b-1a9b0d8027e3')\"\n",
              "              title=\"Convert this dataframe to an interactive table.\"\n",
              "              style=\"display:none;\">\n",
              "        \n",
              "  <svg xmlns=\"http://www.w3.org/2000/svg\" height=\"24px\"viewBox=\"0 0 24 24\"\n",
              "       width=\"24px\">\n",
              "    <path d=\"M0 0h24v24H0V0z\" fill=\"none\"/>\n",
              "    <path d=\"M18.56 5.44l.94 2.06.94-2.06 2.06-.94-2.06-.94-.94-2.06-.94 2.06-2.06.94zm-11 1L8.5 8.5l.94-2.06 2.06-.94-2.06-.94L8.5 2.5l-.94 2.06-2.06.94zm10 10l.94 2.06.94-2.06 2.06-.94-2.06-.94-.94-2.06-.94 2.06-2.06.94z\"/><path d=\"M17.41 7.96l-1.37-1.37c-.4-.4-.92-.59-1.43-.59-.52 0-1.04.2-1.43.59L10.3 9.45l-7.72 7.72c-.78.78-.78 2.05 0 2.83L4 21.41c.39.39.9.59 1.41.59.51 0 1.02-.2 1.41-.59l7.78-7.78 2.81-2.81c.8-.78.8-2.07 0-2.86zM5.41 20L4 18.59l7.72-7.72 1.47 1.35L5.41 20z\"/>\n",
              "  </svg>\n",
              "      </button>\n",
              "      \n",
              "  <style>\n",
              "    .colab-df-container {\n",
              "      display:flex;\n",
              "      flex-wrap:wrap;\n",
              "      gap: 12px;\n",
              "    }\n",
              "\n",
              "    .colab-df-convert {\n",
              "      background-color: #E8F0FE;\n",
              "      border: none;\n",
              "      border-radius: 50%;\n",
              "      cursor: pointer;\n",
              "      display: none;\n",
              "      fill: #1967D2;\n",
              "      height: 32px;\n",
              "      padding: 0 0 0 0;\n",
              "      width: 32px;\n",
              "    }\n",
              "\n",
              "    .colab-df-convert:hover {\n",
              "      background-color: #E2EBFA;\n",
              "      box-shadow: 0px 1px 2px rgba(60, 64, 67, 0.3), 0px 1px 3px 1px rgba(60, 64, 67, 0.15);\n",
              "      fill: #174EA6;\n",
              "    }\n",
              "\n",
              "    [theme=dark] .colab-df-convert {\n",
              "      background-color: #3B4455;\n",
              "      fill: #D2E3FC;\n",
              "    }\n",
              "\n",
              "    [theme=dark] .colab-df-convert:hover {\n",
              "      background-color: #434B5C;\n",
              "      box-shadow: 0px 1px 3px 1px rgba(0, 0, 0, 0.15);\n",
              "      filter: drop-shadow(0px 1px 2px rgba(0, 0, 0, 0.3));\n",
              "      fill: #FFFFFF;\n",
              "    }\n",
              "  </style>\n",
              "\n",
              "      <script>\n",
              "        const buttonEl =\n",
              "          document.querySelector('#df-8b63ce84-ed8a-4cd6-995b-1a9b0d8027e3 button.colab-df-convert');\n",
              "        buttonEl.style.display =\n",
              "          google.colab.kernel.accessAllowed ? 'block' : 'none';\n",
              "\n",
              "        async function convertToInteractive(key) {\n",
              "          const element = document.querySelector('#df-8b63ce84-ed8a-4cd6-995b-1a9b0d8027e3');\n",
              "          const dataTable =\n",
              "            await google.colab.kernel.invokeFunction('convertToInteractive',\n",
              "                                                     [key], {});\n",
              "          if (!dataTable) return;\n",
              "\n",
              "          const docLinkHtml = 'Like what you see? Visit the ' +\n",
              "            '<a target=\"_blank\" href=https://colab.research.google.com/notebooks/data_table.ipynb>data table notebook</a>'\n",
              "            + ' to learn more about interactive tables.';\n",
              "          element.innerHTML = '';\n",
              "          dataTable['output_type'] = 'display_data';\n",
              "          await google.colab.output.renderOutput(dataTable, element);\n",
              "          const docLink = document.createElement('div');\n",
              "          docLink.innerHTML = docLinkHtml;\n",
              "          element.appendChild(docLink);\n",
              "        }\n",
              "      </script>\n",
              "    </div>\n",
              "  </div>\n",
              "  "
            ]
          },
          "metadata": {},
          "execution_count": 23
        }
      ],
      "source": [
        "test_data.describe()"
      ]
    },
    {
      "cell_type": "code",
      "execution_count": 24,
      "metadata": {
        "colab": {
          "base_uri": "https://localhost:8080/"
        },
        "id": "4RzIIPGVne_l",
        "outputId": "206427a7-d900-41ab-8a75-63fb240d24ef"
      },
      "outputs": [
        {
          "output_type": "stream",
          "name": "stdout",
          "text": [
            "<class 'pandas.core.frame.DataFrame'>\n",
            "RangeIndex: 614 entries, 0 to 613\n",
            "Data columns (total 13 columns):\n",
            " #   Column             Non-Null Count  Dtype  \n",
            "---  ------             --------------  -----  \n",
            " 0   Loan_ID            614 non-null    object \n",
            " 1   Gender             601 non-null    object \n",
            " 2   Married            611 non-null    object \n",
            " 3   Dependents         599 non-null    object \n",
            " 4   Education          614 non-null    object \n",
            " 5   Self_Employed      582 non-null    object \n",
            " 6   ApplicantIncome    614 non-null    int64  \n",
            " 7   CoapplicantIncome  614 non-null    float64\n",
            " 8   LoanAmount         592 non-null    float64\n",
            " 9   Loan_Amount_Term   600 non-null    float64\n",
            " 10  Credit_History     564 non-null    float64\n",
            " 11  Property_Area      614 non-null    object \n",
            " 12  Loan_Status        614 non-null    object \n",
            "dtypes: float64(4), int64(1), object(8)\n",
            "memory usage: 62.5+ KB\n"
          ]
        }
      ],
      "source": [
        "train_data.info()"
      ]
    },
    {
      "cell_type": "code",
      "execution_count": 25,
      "metadata": {
        "colab": {
          "base_uri": "https://localhost:8080/"
        },
        "id": "WFEhF8Whr8-X",
        "outputId": "b4ccbe76-981b-4c30-a882-87afc88b0e71"
      },
      "outputs": [
        {
          "output_type": "stream",
          "name": "stdout",
          "text": [
            "<class 'pandas.core.frame.DataFrame'>\n",
            "RangeIndex: 367 entries, 0 to 366\n",
            "Data columns (total 12 columns):\n",
            " #   Column             Non-Null Count  Dtype  \n",
            "---  ------             --------------  -----  \n",
            " 0   Loan_ID            367 non-null    object \n",
            " 1   Gender             356 non-null    object \n",
            " 2   Married            367 non-null    object \n",
            " 3   Dependents         357 non-null    object \n",
            " 4   Education          367 non-null    object \n",
            " 5   Self_Employed      344 non-null    object \n",
            " 6   ApplicantIncome    367 non-null    int64  \n",
            " 7   CoapplicantIncome  367 non-null    int64  \n",
            " 8   LoanAmount         362 non-null    float64\n",
            " 9   Loan_Amount_Term   361 non-null    float64\n",
            " 10  Credit_History     338 non-null    float64\n",
            " 11  Property_Area      367 non-null    object \n",
            "dtypes: float64(3), int64(2), object(7)\n",
            "memory usage: 34.5+ KB\n"
          ]
        }
      ],
      "source": [
        "test_data.info()"
      ]
    },
    {
      "cell_type": "code",
      "source": [
        "sns.heatmap(train_data.corr(),annot=True)"
      ],
      "metadata": {
        "colab": {
          "base_uri": "https://localhost:8080/",
          "height": 629
        },
        "id": "0HlBL6d93_d-",
        "outputId": "8a8b840b-7a07-4509-97dc-cb606bc0ff1e"
      },
      "execution_count": 26,
      "outputs": [
        {
          "output_type": "stream",
          "name": "stderr",
          "text": [
            "<ipython-input-26-36ace15e4ba3>:1: FutureWarning: The default value of numeric_only in DataFrame.corr is deprecated. In a future version, it will default to False. Select only valid columns or specify the value of numeric_only to silence this warning.\n",
            "  sns.heatmap(train_data.corr(),annot=True)\n"
          ]
        },
        {
          "output_type": "execute_result",
          "data": {
            "text/plain": [
              "<Axes: >"
            ]
          },
          "metadata": {},
          "execution_count": 26
        },
        {
          "output_type": "display_data",
          "data": {
            "text/plain": [
              "<Figure size 640x480 with 2 Axes>"
            ],
            "image/png": "[encoded data removed]"
          },
          "metadata": {}
        }
      ]
    },
    {
      "cell_type": "code",
      "execution_count": 27,
      "metadata": {
        "colab": {
          "base_uri": "https://localhost:8080/"
        },
        "id": "Isikov9EAbcw",
        "outputId": "2b17f02c-3788-4609-b056-f806fbc64823"
      },
      "outputs": [
        {
          "output_type": "execute_result",
          "data": {
            "text/plain": [
              "Loan_ID               0\n",
              "Gender               11\n",
              "Married               0\n",
              "Dependents           10\n",
              "Education             0\n",
              "Self_Employed        23\n",
              "ApplicantIncome       0\n",
              "CoapplicantIncome     0\n",
              "LoanAmount            5\n",
              "Loan_Amount_Term      6\n",
              "Credit_History       29\n",
              "Property_Area         0\n",
              "dtype: int64"
            ]
          },
          "metadata": {},
          "execution_count": 27
        }
      ],
      "source": [
        "test_data.isna().sum()"
      ]
    },
    {
      "cell_type": "code",
      "execution_count": 28,
      "metadata": {
        "colab": {
          "base_uri": "https://localhost:8080/"
        },
        "id": "emv21nVocQH2",
        "outputId": "f88f3a8e-6468-475f-dd70-035492722a4c"
      },
      "outputs": [
        {
          "output_type": "execute_result",
          "data": {
            "text/plain": [
              "Loan_ID               0\n",
              "Gender               11\n",
              "Married               0\n",
              "Dependents           10\n",
              "Education             0\n",
              "Self_Employed        23\n",
              "ApplicantIncome       0\n",
              "CoapplicantIncome     0\n",
              "LoanAmount            5\n",
              "Loan_Amount_Term      6\n",
              "Credit_History       29\n",
              "Property_Area         0\n",
              "dtype: int64"
            ]
          },
          "metadata": {},
          "execution_count": 28
        }
      ],
      "source": [
        "test_data.isna().sum()"
      ]
    },
    {
      "cell_type": "code",
      "execution_count": 29,
      "metadata": {
        "id": "eASKr9Q-BVjC"
      },
      "outputs": [],
      "source": [
        "for i in ['Loan_Amount_Term','Credit_History']:\n",
        "    train_data[i]=train_data[i].fillna(train_data[i].median())\n",
        "\n"
      ]
    },
    {
      "cell_type": "code",
      "source": [
        "train_data['LoanAmount']=train_data['LoanAmount'].fillna(train_data['LoanAmount'].median())"
      ],
      "metadata": {
        "id": "SasR6GI-4eKE"
      },
      "execution_count": 30,
      "outputs": []
    },
    {
      "cell_type": "code",
      "execution_count": 31,
      "metadata": {
        "id": "gFfSYCplGCus",
        "colab": {
          "base_uri": "https://localhost:8080/",
          "height": 522
        },
        "outputId": "b52d9b09-4baf-47bc-da18-9096ddb6d81a"
      },
      "outputs": [
        {
          "output_type": "execute_result",
          "data": {
            "text/plain": [
              "      Loan_ID Gender Married Dependents     Education Self_Employed  \\\n",
              "0    LP001015   Male     Yes          0      Graduate            No   \n",
              "1    LP001022   Male     Yes          1      Graduate            No   \n",
              "2    LP001031   Male     Yes          2      Graduate            No   \n",
              "3    LP001035   Male     Yes          2      Graduate            No   \n",
              "4    LP001051   Male      No          0  Not Graduate            No   \n",
              "..        ...    ...     ...        ...           ...           ...   \n",
              "362  LP002971   Male     Yes         3+  Not Graduate           Yes   \n",
              "363  LP002975   Male     Yes          0      Graduate            No   \n",
              "364  LP002980   Male      No          0      Graduate            No   \n",
              "365  LP002986   Male     Yes          0      Graduate            No   \n",
              "366  LP002989   Male      No          0      Graduate           Yes   \n",
              "\n",
              "     ApplicantIncome  CoapplicantIncome  LoanAmount  Loan_Amount_Term  \\\n",
              "0               5720                  0       110.0             360.0   \n",
              "1               3076               1500       126.0             360.0   \n",
              "2               5000               1800       208.0             360.0   \n",
              "3               2340               2546       100.0             360.0   \n",
              "4               3276                  0        78.0             360.0   \n",
              "..               ...                ...         ...               ...   \n",
              "362             4009               1777       113.0             360.0   \n",
              "363             4158                709       115.0             360.0   \n",
              "364             3250               1993       126.0             360.0   \n",
              "365             5000               2393       158.0             360.0   \n",
              "366             9200                  0        98.0             180.0   \n",
              "\n",
              "     Credit_History Property_Area  \n",
              "0               1.0         Urban  \n",
              "1               1.0         Urban  \n",
              "2               1.0         Urban  \n",
              "3               NaN         Urban  \n",
              "4               1.0         Urban  \n",
              "..              ...           ...  \n",
              "362             1.0         Urban  \n",
              "363             1.0         Urban  \n",
              "364             NaN     Semiurban  \n",
              "365             1.0         Rural  \n",
              "366             1.0         Rural  \n",
              "\n",
              "[367 rows x 12 columns]"
            ],
            "text/html": [
              "\n",
              "  <div id=\"df-b0a6c20e-920e-4280-b42a-be2525fb73f1\">\n",
              "    <div class=\"colab-df-container\">\n",
              "      <div>\n",
              "<style scoped>\n",
              "    .dataframe tbody tr th:only-of-type {\n",
              "        vertical-align: middle;\n",
              "    }\n",
              "\n",
              "    .dataframe tbody tr th {\n",
              "        vertical-align: top;\n",
              "    }\n",
              "\n",
              "    .dataframe thead th {\n",
              "        text-align: right;\n",
              "    }\n",
              "</style>\n",
              "<table border=\"1\" class=\"dataframe\">\n",
              "  <thead>\n",
              "    <tr style=\"text-align: right;\">\n",
              "      <th></th>\n",
              "      <th>Loan_ID</th>\n",
              "      <th>Gender</th>\n",
              "      <th>Married</th>\n",
              "      <th>Dependents</th>\n",
              "      <th>Education</th>\n",
              "      <th>Self_Employed</th>\n",
              "      <th>ApplicantIncome</th>\n",
              "      <th>CoapplicantIncome</th>\n",
              "      <th>LoanAmount</th>\n",
              "      <th>Loan_Amount_Term</th>\n",
              "      <th>Credit_History</th>\n",
              "      <th>Property_Area</th>\n",
              "    </tr>\n",
              "  </thead>\n",
              "  <tbody>\n",
              "    <tr>\n",
              "      <th>0</th>\n",
              "      <td>LP001015</td>\n",
              "      <td>Male</td>\n",
              "      <td>Yes</td>\n",
              "      <td>0</td>\n",
              "      <td>Graduate</td>\n",
              "      <td>No</td>\n",
              "      <td>5720</td>\n",
              "      <td>0</td>\n",
              "      <td>110.0</td>\n",
              "      <td>360.0</td>\n",
              "      <td>1.0</td>\n",
              "      <td>Urban</td>\n",
              "    </tr>\n",
              "    <tr>\n",
              "      <th>1</th>\n",
              "      <td>LP001022</td>\n",
              "      <td>Male</td>\n",
              "      <td>Yes</td>\n",
              "      <td>1</td>\n",
              "      <td>Graduate</td>\n",
              "      <td>No</td>\n",
              "      <td>3076</td>\n",
              "      <td>1500</td>\n",
              "      <td>126.0</td>\n",
              "      <td>360.0</td>\n",
              "      <td>1.0</td>\n",
              "      <td>Urban</td>\n",
              "    </tr>\n",
              "    <tr>\n",
              "      <th>2</th>\n",
              "      <td>LP001031</td>\n",
              "      <td>Male</td>\n",
              "      <td>Yes</td>\n",
              "      <td>2</td>\n",
              "      <td>Graduate</td>\n",
              "      <td>No</td>\n",
              "      <td>5000</td>\n",
              "      <td>1800</td>\n",
              "      <td>208.0</td>\n",
              "      <td>360.0</td>\n",
              "      <td>1.0</td>\n",
              "      <td>Urban</td>\n",
              "    </tr>\n",
              "    <tr>\n",
              "      <th>3</th>\n",
              "      <td>LP001035</td>\n",
              "      <td>Male</td>\n",
              "      <td>Yes</td>\n",
              "      <td>2</td>\n",
              "      <td>Graduate</td>\n",
              "      <td>No</td>\n",
              "      <td>2340</td>\n",
              "      <td>2546</td>\n",
              "      <td>100.0</td>\n",
              "      <td>360.0</td>\n",
              "      <td>NaN</td>\n",
              "      <td>Urban</td>\n",
              "    </tr>\n",
              "    <tr>\n",
              "      <th>4</th>\n",
              "      <td>LP001051</td>\n",
              "      <td>Male</td>\n",
              "      <td>No</td>\n",
              "      <td>0</td>\n",
              "      <td>Not Graduate</td>\n",
              "      <td>No</td>\n",
              "      <td>3276</td>\n",
              "      <td>0</td>\n",
              "      <td>78.0</td>\n",
              "      <td>360.0</td>\n",
              "      <td>1.0</td>\n",
              "      <td>Urban</td>\n",
              "    </tr>\n",
              "    <tr>\n",
              "      <th>...</th>\n",
              "      <td>...</td>\n",
              "      <td>...</td>\n",
              "      <td>...</td>\n",
              "      <td>...</td>\n",
              "      <td>...</td>\n",
              "      <td>...</td>\n",
              "      <td>...</td>\n",
              "      <td>...</td>\n",
              "      <td>...</td>\n",
              "      <td>...</td>\n",
              "      <td>...</td>\n",
              "      <td>...</td>\n",
              "    </tr>\n",
              "    <tr>\n",
              "      <th>362</th>\n",
              "      <td>LP002971</td>\n",
              "      <td>Male</td>\n",
              "      <td>Yes</td>\n",
              "      <td>3+</td>\n",
              "      <td>Not Graduate</td>\n",
              "      <td>Yes</td>\n",
              "      <td>4009</td>\n",
              "      <td>1777</td>\n",
              "      <td>113.0</td>\n",
              "      <td>360.0</td>\n",
              "      <td>1.0</td>\n",
              "      <td>Urban</td>\n",
              "    </tr>\n",
              "    <tr>\n",
              "      <th>363</th>\n",
              "      <td>LP002975</td>\n",
              "      <td>Male</td>\n",
              "      <td>Yes</td>\n",
              "      <td>0</td>\n",
              "      <td>Graduate</td>\n",
              "      <td>No</td>\n",
              "      <td>4158</td>\n",
              "      <td>709</td>\n",
              "      <td>115.0</td>\n",
              "      <td>360.0</td>\n",
              "      <td>1.0</td>\n",
              "      <td>Urban</td>\n",
              "    </tr>\n",
              "    <tr>\n",
              "      <th>364</th>\n",
              "      <td>LP002980</td>\n",
              "      <td>Male</td>\n",
              "      <td>No</td>\n",
              "      <td>0</td>\n",
              "      <td>Graduate</td>\n",
              "      <td>No</td>\n",
              "      <td>3250</td>\n",
              "      <td>1993</td>\n",
              "      <td>126.0</td>\n",
              "      <td>360.0</td>\n",
              "      <td>NaN</td>\n",
              "      <td>Semiurban</td>\n",
              "    </tr>\n",
              "    <tr>\n",
              "      <th>365</th>\n",
              "      <td>LP002986</td>\n",
              "      <td>Male</td>\n",
              "      <td>Yes</td>\n",
              "      <td>0</td>\n",
              "      <td>Graduate</td>\n",
              "      <td>No</td>\n",
              "      <td>5000</td>\n",
              "      <td>2393</td>\n",
              "      <td>158.0</td>\n",
              "      <td>360.0</td>\n",
              "      <td>1.0</td>\n",
              "      <td>Rural</td>\n",
              "    </tr>\n",
              "    <tr>\n",
              "      <th>366</th>\n",
              "      <td>LP002989</td>\n",
              "      <td>Male</td>\n",
              "      <td>No</td>\n",
              "      <td>0</td>\n",
              "      <td>Graduate</td>\n",
              "      <td>Yes</td>\n",
              "      <td>9200</td>\n",
              "      <td>0</td>\n",
              "      <td>98.0</td>\n",
              "      <td>180.0</td>\n",
              "      <td>1.0</td>\n",
              "      <td>Rural</td>\n",
              "    </tr>\n",
              "  </tbody>\n",
              "</table>\n",
              "<p>367 rows × 12 columns</p>\n",
              "</div>\n",
              "      <button class=\"colab-df-convert\" onclick=\"convertToInteractive('df-b0a6c20e-920e-4280-b42a-be2525fb73f1')\"\n",
              "              title=\"Convert this dataframe to an interactive table.\"\n",
              "              style=\"display:none;\">\n",
              "        \n",
              "  <svg xmlns=\"http://www.w3.org/2000/svg\" height=\"24px\"viewBox=\"0 0 24 24\"\n",
              "       width=\"24px\">\n",
              "    <path d=\"M0 0h24v24H0V0z\" fill=\"none\"/>\n",
              "    <path d=\"M18.56 5.44l.94 2.06.94-2.06 2.06-.94-2.06-.94-.94-2.06-.94 2.06-2.06.94zm-11 1L8.5 8.5l.94-2.06 2.06-.94-2.06-.94L8.5 2.5l-.94 2.06-2.06.94zm10 10l.94 2.06.94-2.06 2.06-.94-2.06-.94-.94-2.06-.94 2.06-2.06.94z\"/><path d=\"M17.41 7.96l-1.37-1.37c-.4-.4-.92-.59-1.43-.59-.52 0-1.04.2-1.43.59L10.3 9.45l-7.72 7.72c-.78.78-.78 2.05 0 2.83L4 21.41c.39.39.9.59 1.41.59.51 0 1.02-.2 1.41-.59l7.78-7.78 2.81-2.81c.8-.78.8-2.07 0-2.86zM5.41 20L4 18.59l7.72-7.72 1.47 1.35L5.41 20z\"/>\n",
              "  </svg>\n",
              "      </button>\n",
              "      \n",
              "  <style>\n",
              "    .colab-df-container {\n",
              "      display:flex;\n",
              "      flex-wrap:wrap;\n",
              "      gap: 12px;\n",
              "    }\n",
              "\n",
              "    .colab-df-convert {\n",
              "      background-color: #E8F0FE;\n",
              "      border: none;\n",
              "      border-radius: 50%;\n",
              "      cursor: pointer;\n",
              "      display: none;\n",
              "      fill: #1967D2;\n",
              "      height: 32px;\n",
              "      padding: 0 0 0 0;\n",
              "      width: 32px;\n",
              "    }\n",
              "\n",
              "    .colab-df-convert:hover {\n",
              "      background-color: #E2EBFA;\n",
              "      box-shadow: 0px 1px 2px rgba(60, 64, 67, 0.3), 0px 1px 3px 1px rgba(60, 64, 67, 0.15);\n",
              "      fill: #174EA6;\n",
              "    }\n",
              "\n",
              "    [theme=dark] .colab-df-convert {\n",
              "      background-color: #3B4455;\n",
              "      fill: #D2E3FC;\n",
              "    }\n",
              "\n",
              "    [theme=dark] .colab-df-convert:hover {\n",
              "      background-color: #434B5C;\n",
              "      box-shadow: 0px 1px 3px 1px rgba(0, 0, 0, 0.15);\n",
              "      filter: drop-shadow(0px 1px 2px rgba(0, 0, 0, 0.3));\n",
              "      fill: #FFFFFF;\n",
              "    }\n",
              "  </style>\n",
              "\n",
              "      <script>\n",
              "        const buttonEl =\n",
              "          document.querySelector('#df-b0a6c20e-920e-4280-b42a-be2525fb73f1 button.colab-df-convert');\n",
              "        buttonEl.style.display =\n",
              "          google.colab.kernel.accessAllowed ? 'block' : 'none';\n",
              "\n",
              "        async function convertToInteractive(key) {\n",
              "          const element = document.querySelector('#df-b0a6c20e-920e-4280-b42a-be2525fb73f1');\n",
              "          const dataTable =\n",
              "            await google.colab.kernel.invokeFunction('convertToInteractive',\n",
              "                                                     [key], {});\n",
              "          if (!dataTable) return;\n",
              "\n",
              "          const docLinkHtml = 'Like what you see? Visit the ' +\n",
              "            '<a target=\"_blank\" href=https://colab.research.google.com/notebooks/data_table.ipynb>data table notebook</a>'\n",
              "            + ' to learn more about interactive tables.';\n",
              "          element.innerHTML = '';\n",
              "          dataTable['output_type'] = 'display_data';\n",
              "          await google.colab.output.renderOutput(dataTable, element);\n",
              "          const docLink = document.createElement('div');\n",
              "          docLink.innerHTML = docLinkHtml;\n",
              "          element.appendChild(docLink);\n",
              "        }\n",
              "      </script>\n",
              "    </div>\n",
              "  </div>\n",
              "  "
            ]
          },
          "metadata": {},
          "execution_count": 31
        }
      ],
      "source": [
        "test_data"
      ]
    },
    {
      "cell_type": "code",
      "execution_count": 32,
      "metadata": {
        "id": "1AXyHNuI0R4_"
      },
      "outputs": [],
      "source": [
        "test_data['Gender'].fillna(test_data['Gender'].mode()[0], inplace=True, axis=0)\n",
        "test_data['Self_Employed'].fillna(test_data['Self_Employed'].mode()[0], inplace=True, axis=0)\n",
        "test_data['Dependents'].fillna(test_data['Dependents'].mode()[0], inplace=True, axis=0)\n",
        "test_data['LoanAmount'].fillna(test_data['LoanAmount'].median(),inplace=True)\n",
        "test_data['Loan_Amount_Term'].fillna(test_data['Loan_Amount_Term'].median(),inplace=True)\n",
        "test_data['Credit_History'].fillna(test_data['Credit_History'].median(),inplace=True)\n"
      ]
    },
    {
      "cell_type": "code",
      "execution_count": 33,
      "metadata": {
        "colab": {
          "base_uri": "https://localhost:8080/"
        },
        "id": "uRSQ9l0uDwOY",
        "outputId": "64e4abe5-6438-4d38-df6c-57248bcb0979"
      },
      "outputs": [
        {
          "output_type": "execute_result",
          "data": {
            "text/plain": [
              "Loan_ID               0\n",
              "Gender               13\n",
              "Married               3\n",
              "Dependents           15\n",
              "Education             0\n",
              "Self_Employed        32\n",
              "ApplicantIncome       0\n",
              "CoapplicantIncome     0\n",
              "LoanAmount            0\n",
              "Loan_Amount_Term      0\n",
              "Credit_History        0\n",
              "Property_Area         0\n",
              "Loan_Status           0\n",
              "dtype: int64"
            ]
          },
          "metadata": {},
          "execution_count": 33
        }
      ],
      "source": [
        "train_data.isna().sum()"
      ]
    },
    {
      "cell_type": "code",
      "execution_count": 34,
      "metadata": {
        "colab": {
          "base_uri": "https://localhost:8080/",
          "height": 505
        },
        "id": "9WIWtcq50R5A",
        "outputId": "78a3016f-f321-4e8d-9645-1c1a6800a9d4"
      },
      "outputs": [
        {
          "output_type": "execute_result",
          "data": {
            "text/plain": [
              "      Loan_ID  Gender Married Dependents     Education Self_Employed  \\\n",
              "0    LP001002    Male      No          0      Graduate            No   \n",
              "1    LP001003    Male     Yes          1      Graduate            No   \n",
              "2    LP001005    Male     Yes          0      Graduate           Yes   \n",
              "3    LP001006    Male     Yes          0  Not Graduate            No   \n",
              "4    LP001008    Male      No          0      Graduate            No   \n",
              "..        ...     ...     ...        ...           ...           ...   \n",
              "609  LP002978  Female      No          0      Graduate            No   \n",
              "610  LP002979    Male     Yes         3+      Graduate            No   \n",
              "611  LP002983    Male     Yes          1      Graduate            No   \n",
              "612  LP002984    Male     Yes          2      Graduate            No   \n",
              "613  LP002990  Female      No          0      Graduate           Yes   \n",
              "\n",
              "     ApplicantIncome  CoapplicantIncome  LoanAmount  Loan_Amount_Term  \\\n",
              "0               5849                0.0       128.0             360.0   \n",
              "1               4583             1508.0       128.0             360.0   \n",
              "2               3000                0.0        66.0             360.0   \n",
              "3               2583             2358.0       120.0             360.0   \n",
              "4               6000                0.0       141.0             360.0   \n",
              "..               ...                ...         ...               ...   \n",
              "609             2900                0.0        71.0             360.0   \n",
              "610             4106                0.0        40.0             180.0   \n",
              "611             8072              240.0       253.0             360.0   \n",
              "612             7583                0.0       187.0             360.0   \n",
              "613             4583                0.0       133.0             360.0   \n",
              "\n",
              "     Credit_History Property_Area Loan_Status  \n",
              "0               1.0         Urban           Y  \n",
              "1               1.0         Rural           N  \n",
              "2               1.0         Urban           Y  \n",
              "3               1.0         Urban           Y  \n",
              "4               1.0         Urban           Y  \n",
              "..              ...           ...         ...  \n",
              "609             1.0         Rural           Y  \n",
              "610             1.0         Rural           Y  \n",
              "611             1.0         Urban           Y  \n",
              "612             1.0         Urban           Y  \n",
              "613             0.0     Semiurban           N  \n",
              "\n",
              "[614 rows x 13 columns]"
            ],
            "text/html": [
              "\n",
              "  <div id=\"df-95f8a2c7-9d18-4a88-8b57-9ac740abba00\">\n",
              "    <div class=\"colab-df-container\">\n",
              "      <div>\n",
              "<style scoped>\n",
              "    .dataframe tbody tr th:only-of-type {\n",
              "        vertical-align: middle;\n",
              "    }\n",
              "\n",
              "    .dataframe tbody tr th {\n",
              "        vertical-align: top;\n",
              "    }\n",
              "\n",
              "    .dataframe thead th {\n",
              "        text-align: right;\n",
              "    }\n",
              "</style>\n",
              "<table border=\"1\" class=\"dataframe\">\n",
              "  <thead>\n",
              "    <tr style=\"text-align: right;\">\n",
              "      <th></th>\n",
              "      <th>Loan_ID</th>\n",
              "      <th>Gender</th>\n",
              "      <th>Married</th>\n",
              "      <th>Dependents</th>\n",
              "      <th>Education</th>\n",
              "      <th>Self_Employed</th>\n",
              "      <th>ApplicantIncome</th>\n",
              "      <th>CoapplicantIncome</th>\n",
              "      <th>LoanAmount</th>\n",
              "      <th>Loan_Amount_Term</th>\n",
              "      <th>Credit_History</th>\n",
              "      <th>Property_Area</th>\n",
              "      <th>Loan_Status</th>\n",
              "    </tr>\n",
              "  </thead>\n",
              "  <tbody>\n",
              "    <tr>\n",
              "      <th>0</th>\n",
              "      <td>LP001002</td>\n",
              "      <td>Male</td>\n",
              "      <td>No</td>\n",
              "      <td>0</td>\n",
              "      <td>Graduate</td>\n",
              "      <td>No</td>\n",
              "      <td>5849</td>\n",
              "      <td>0.0</td>\n",
              "      <td>128.0</td>\n",
              "      <td>360.0</td>\n",
              "      <td>1.0</td>\n",
              "      <td>Urban</td>\n",
              "      <td>Y</td>\n",
              "    </tr>\n",
              "    <tr>\n",
              "      <th>1</th>\n",
              "      <td>LP001003</td>\n",
              "      <td>Male</td>\n",
              "      <td>Yes</td>\n",
              "      <td>1</td>\n",
              "      <td>Graduate</td>\n",
              "      <td>No</td>\n",
              "      <td>4583</td>\n",
              "      <td>1508.0</td>\n",
              "      <td>128.0</td>\n",
              "      <td>360.0</td>\n",
              "      <td>1.0</td>\n",
              "      <td>Rural</td>\n",
              "      <td>N</td>\n",
              "    </tr>\n",
              "    <tr>\n",
              "      <th>2</th>\n",
              "      <td>LP001005</td>\n",
              "      <td>Male</td>\n",
              "      <td>Yes</td>\n",
              "      <td>0</td>\n",
              "      <td>Graduate</td>\n",
              "      <td>Yes</td>\n",
              "      <td>3000</td>\n",
              "      <td>0.0</td>\n",
              "      <td>66.0</td>\n",
              "      <td>360.0</td>\n",
              "      <td>1.0</td>\n",
              "      <td>Urban</td>\n",
              "      <td>Y</td>\n",
              "    </tr>\n",
              "    <tr>\n",
              "      <th>3</th>\n",
              "      <td>LP001006</td>\n",
              "      <td>Male</td>\n",
              "      <td>Yes</td>\n",
              "      <td>0</td>\n",
              "      <td>Not Graduate</td>\n",
              "      <td>No</td>\n",
              "      <td>2583</td>\n",
              "      <td>2358.0</td>\n",
              "      <td>120.0</td>\n",
              "      <td>360.0</td>\n",
              "      <td>1.0</td>\n",
              "      <td>Urban</td>\n",
              "      <td>Y</td>\n",
              "    </tr>\n",
              "    <tr>\n",
              "      <th>4</th>\n",
              "      <td>LP001008</td>\n",
              "      <td>Male</td>\n",
              "      <td>No</td>\n",
              "      <td>0</td>\n",
              "      <td>Graduate</td>\n",
              "      <td>No</td>\n",
              "      <td>6000</td>\n",
              "      <td>0.0</td>\n",
              "      <td>141.0</td>\n",
              "      <td>360.0</td>\n",
              "      <td>1.0</td>\n",
              "      <td>Urban</td>\n",
              "      <td>Y</td>\n",
              "    </tr>\n",
              "    <tr>\n",
              "      <th>...</th>\n",
              "      <td>...</td>\n",
              "      <td>...</td>\n",
              "      <td>...</td>\n",
              "      <td>...</td>\n",
              "      <td>...</td>\n",
              "      <td>...</td>\n",
              "      <td>...</td>\n",
              "      <td>...</td>\n",
              "      <td>...</td>\n",
              "      <td>...</td>\n",
              "      <td>...</td>\n",
              "      <td>...</td>\n",
              "      <td>...</td>\n",
              "    </tr>\n",
              "    <tr>\n",
              "      <th>609</th>\n",
              "      <td>LP002978</td>\n",
              "      <td>Female</td>\n",
              "      <td>No</td>\n",
              "      <td>0</td>\n",
              "      <td>Graduate</td>\n",
              "      <td>No</td>\n",
              "      <td>2900</td>\n",
              "      <td>0.0</td>\n",
              "      <td>71.0</td>\n",
              "      <td>360.0</td>\n",
              "      <td>1.0</td>\n",
              "      <td>Rural</td>\n",
              "      <td>Y</td>\n",
              "    </tr>\n",
              "    <tr>\n",
              "      <th>610</th>\n",
              "      <td>LP002979</td>\n",
              "      <td>Male</td>\n",
              "      <td>Yes</td>\n",
              "      <td>3+</td>\n",
              "      <td>Graduate</td>\n",
              "      <td>No</td>\n",
              "      <td>4106</td>\n",
              "      <td>0.0</td>\n",
              "      <td>40.0</td>\n",
              "      <td>180.0</td>\n",
              "      <td>1.0</td>\n",
              "      <td>Rural</td>\n",
              "      <td>Y</td>\n",
              "    </tr>\n",
              "    <tr>\n",
              "      <th>611</th>\n",
              "      <td>LP002983</td>\n",
              "      <td>Male</td>\n",
              "      <td>Yes</td>\n",
              "      <td>1</td>\n",
              "      <td>Graduate</td>\n",
              "      <td>No</td>\n",
              "      <td>8072</td>\n",
              "      <td>240.0</td>\n",
              "      <td>253.0</td>\n",
              "      <td>360.0</td>\n",
              "      <td>1.0</td>\n",
              "      <td>Urban</td>\n",
              "      <td>Y</td>\n",
              "    </tr>\n",
              "    <tr>\n",
              "      <th>612</th>\n",
              "      <td>LP002984</td>\n",
              "      <td>Male</td>\n",
              "      <td>Yes</td>\n",
              "      <td>2</td>\n",
              "      <td>Graduate</td>\n",
              "      <td>No</td>\n",
              "      <td>7583</td>\n",
              "      <td>0.0</td>\n",
              "      <td>187.0</td>\n",
              "      <td>360.0</td>\n",
              "      <td>1.0</td>\n",
              "      <td>Urban</td>\n",
              "      <td>Y</td>\n",
              "    </tr>\n",
              "    <tr>\n",
              "      <th>613</th>\n",
              "      <td>LP002990</td>\n",
              "      <td>Female</td>\n",
              "      <td>No</td>\n",
              "      <td>0</td>\n",
              "      <td>Graduate</td>\n",
              "      <td>Yes</td>\n",
              "      <td>4583</td>\n",
              "      <td>0.0</td>\n",
              "      <td>133.0</td>\n",
              "      <td>360.0</td>\n",
              "      <td>0.0</td>\n",
              "      <td>Semiurban</td>\n",
              "      <td>N</td>\n",
              "    </tr>\n",
              "  </tbody>\n",
              "</table>\n",
              "<p>614 rows × 13 columns</p>\n",
              "</div>\n",
              "      <button class=\"colab-df-convert\" onclick=\"convertToInteractive('df-95f8a2c7-9d18-4a88-8b57-9ac740abba00')\"\n",
              "              title=\"Convert this dataframe to an interactive table.\"\n",
              "              style=\"display:none;\">\n",
              "        \n",
              "  <svg xmlns=\"http://www.w3.org/2000/svg\" height=\"24px\"viewBox=\"0 0 24 24\"\n",
              "       width=\"24px\">\n",
              "    <path d=\"M0 0h24v24H0V0z\" fill=\"none\"/>\n",
              "    <path d=\"M18.56 5.44l.94 2.06.94-2.06 2.06-.94-2.06-.94-.94-2.06-.94 2.06-2.06.94zm-11 1L8.5 8.5l.94-2.06 2.06-.94-2.06-.94L8.5 2.5l-.94 2.06-2.06.94zm10 10l.94 2.06.94-2.06 2.06-.94-2.06-.94-.94-2.06-.94 2.06-2.06.94z\"/><path d=\"M17.41 7.96l-1.37-1.37c-.4-.4-.92-.59-1.43-.59-.52 0-1.04.2-1.43.59L10.3 9.45l-7.72 7.72c-.78.78-.78 2.05 0 2.83L4 21.41c.39.39.9.59 1.41.59.51 0 1.02-.2 1.41-.59l7.78-7.78 2.81-2.81c.8-.78.8-2.07 0-2.86zM5.41 20L4 18.59l7.72-7.72 1.47 1.35L5.41 20z\"/>\n",
              "  </svg>\n",
              "      </button>\n",
              "      \n",
              "  <style>\n",
              "    .colab-df-container {\n",
              "      display:flex;\n",
              "      flex-wrap:wrap;\n",
              "      gap: 12px;\n",
              "    }\n",
              "\n",
              "    .colab-df-convert {\n",
              "      background-color: #E8F0FE;\n",
              "      border: none;\n",
              "      border-radius: 50%;\n",
              "      cursor: pointer;\n",
              "      display: none;\n",
              "      fill: #1967D2;\n",
              "      height: 32px;\n",
              "      padding: 0 0 0 0;\n",
              "      width: 32px;\n",
              "    }\n",
              "\n",
              "    .colab-df-convert:hover {\n",
              "      background-color: #E2EBFA;\n",
              "      box-shadow: 0px 1px 2px rgba(60, 64, 67, 0.3), 0px 1px 3px 1px rgba(60, 64, 67, 0.15);\n",
              "      fill: #174EA6;\n",
              "    }\n",
              "\n",
              "    [theme=dark] .colab-df-convert {\n",
              "      background-color: #3B4455;\n",
              "      fill: #D2E3FC;\n",
              "    }\n",
              "\n",
              "    [theme=dark] .colab-df-convert:hover {\n",
              "      background-color: #434B5C;\n",
              "      box-shadow: 0px 1px 3px 1px rgba(0, 0, 0, 0.15);\n",
              "      filter: drop-shadow(0px 1px 2px rgba(0, 0, 0, 0.3));\n",
              "      fill: #FFFFFF;\n",
              "    }\n",
              "  </style>\n",
              "\n",
              "      <script>\n",
              "        const buttonEl =\n",
              "          document.querySelector('#df-95f8a2c7-9d18-4a88-8b57-9ac740abba00 button.colab-df-convert');\n",
              "        buttonEl.style.display =\n",
              "          google.colab.kernel.accessAllowed ? 'block' : 'none';\n",
              "\n",
              "        async function convertToInteractive(key) {\n",
              "          const element = document.querySelector('#df-95f8a2c7-9d18-4a88-8b57-9ac740abba00');\n",
              "          const dataTable =\n",
              "            await google.colab.kernel.invokeFunction('convertToInteractive',\n",
              "                                                     [key], {});\n",
              "          if (!dataTable) return;\n",
              "\n",
              "          const docLinkHtml = 'Like what you see? Visit the ' +\n",
              "            '<a target=\"_blank\" href=https://colab.research.google.com/notebooks/data_table.ipynb>data table notebook</a>'\n",
              "            + ' to learn more about interactive tables.';\n",
              "          element.innerHTML = '';\n",
              "          dataTable['output_type'] = 'display_data';\n",
              "          await google.colab.output.renderOutput(dataTable, element);\n",
              "          const docLink = document.createElement('div');\n",
              "          docLink.innerHTML = docLinkHtml;\n",
              "          element.appendChild(docLink);\n",
              "        }\n",
              "      </script>\n",
              "    </div>\n",
              "  </div>\n",
              "  "
            ]
          },
          "metadata": {},
          "execution_count": 34
        }
      ],
      "source": [
        "train_data"
      ]
    },
    {
      "cell_type": "code",
      "execution_count": 35,
      "metadata": {
        "id": "ROpioaz-QbGt"
      },
      "outputs": [],
      "source": [
        "from sklearn.preprocessing import LabelEncoder\n",
        "label_encoder=LabelEncoder()\n",
        "train_data['Loan_ID']=label_encoder.fit_transform(train_data['Loan_ID'])\n",
        "train_data['Gender']=label_encoder.fit_transform(train_data['Gender'])\n",
        "train_data['Married']=label_encoder.fit_transform(train_data['Married'])\n",
        "train_data['Education']=label_encoder.fit_transform(train_data['Education'])\n",
        "train_data['Self_Employed']=label_encoder.fit_transform(train_data['Self_Employed'])\n",
        "train_data['Property_Area']=label_encoder.fit_transform(train_data['Property_Area'])\n",
        "train_data['Loan_Status']=label_encoder.fit_transform(train_data['Loan_Status'])\n"
      ]
    },
    {
      "cell_type": "code",
      "execution_count": 36,
      "metadata": {
        "id": "bR3UAUlz0R5e"
      },
      "outputs": [],
      "source": [
        "##test_data\n",
        "test_data['Loan_ID']=label_encoder.fit_transform(test_data['Loan_ID'])\n",
        "test_data['Gender']=label_encoder.fit_transform(test_data['Gender'])\n",
        "test_data['Married']=label_encoder.fit_transform(test_data['Married'])\n",
        "test_data['Education']=label_encoder.fit_transform(test_data['Education'])\n",
        "test_data['Self_Employed']=label_encoder.fit_transform(test_data['Self_Employed'])\n",
        "test_data['Property_Area']=label_encoder.fit_transform(test_data['Property_Area'])\n"
      ]
    },
    {
      "cell_type": "code",
      "execution_count": 37,
      "metadata": {
        "id": "tedEkrUm0R5g"
      },
      "outputs": [],
      "source": [
        "train_data['Dependents'] = label_encoder.fit_transform(train_data['Dependents'].astype(str))\n",
        "test_data['Dependents'] = label_encoder.fit_transform(test_data['Dependents'].astype(str))\n"
      ]
    },
    {
      "cell_type": "code",
      "execution_count": 38,
      "metadata": {
        "colab": {
          "base_uri": "https://localhost:8080/"
        },
        "id": "QGusHiE1IyHk",
        "outputId": "7e548ebf-bf52-4b41-de15-d8bf5d617a88"
      },
      "outputs": [
        {
          "output_type": "stream",
          "name": "stderr",
          "text": [
            "<ipython-input-38-d27a53fcb606>:1: DeprecationWarning: the `interpolation=` argument to percentile was renamed to `method=`, which has additional options.\n",
            "Users of the modes 'nearest', 'lower', 'higher', or 'midpoint' are encouraged to review the method they. (Deprecated NumPy 1.22)\n",
            "  Q11=np.percentile(train_data['ApplicantIncome'],25,interpolation='midpoint')\n",
            "<ipython-input-38-d27a53fcb606>:2: DeprecationWarning: the `interpolation=` argument to percentile was renamed to `method=`, which has additional options.\n",
            "Users of the modes 'nearest', 'lower', 'higher', or 'midpoint' are encouraged to review the method they. (Deprecated NumPy 1.22)\n",
            "  Q31=np.percentile(train_data['ApplicantIncome'],75,interpolation='midpoint')\n"
          ]
        }
      ],
      "source": [
        "Q11=np.percentile(train_data['ApplicantIncome'],25,interpolation='midpoint')\n",
        "Q31=np.percentile(train_data['ApplicantIncome'],75,interpolation='midpoint')\n",
        "IQR=Q31-Q11\n",
        "low_lim1=Q11-1.5*IQR\n",
        "up_lim1=Q31+1.5*IQR\n",
        "outlier=[]\n",
        "for x in train_data['ApplicantIncome']:\n",
        "  if ((x>up_lim1) or (x< low_lim1)):\n",
        "    outlier.append(x)\n"
      ]
    },
    {
      "cell_type": "code",
      "execution_count": 39,
      "metadata": {
        "colab": {
          "base_uri": "https://localhost:8080/"
        },
        "id": "8IEm38iTSb7E",
        "outputId": "98c6a9ca-90a3-431d-a687-e1c595061bbd"
      },
      "outputs": [
        {
          "output_type": "execute_result",
          "data": {
            "text/plain": [
              "Int64Index([], dtype='int64')"
            ]
          },
          "metadata": {},
          "execution_count": 39
        }
      ],
      "source": [
        "ind1=train_data['ApplicantIncome']<low_lim1\n",
        "train_data.loc[ind1].index\n"
      ]
    },
    {
      "cell_type": "code",
      "execution_count": 40,
      "metadata": {
        "colab": {
          "base_uri": "https://localhost:8080/"
        },
        "id": "I6WaC6BqZDNT",
        "outputId": "20c02a7c-b26b-41bc-ab80-92824db0f569"
      },
      "outputs": [
        {
          "output_type": "execute_result",
          "data": {
            "text/plain": [
              "Int64Index([  9,  34,  54,  67, 102, 106, 115, 119, 126, 128, 130, 138, 144,\n",
              "            146, 155, 171, 183, 185, 191, 199, 254, 258, 271, 278, 284, 308,\n",
              "            324, 333, 369, 370, 409, 424, 432, 438, 443, 467, 475, 478, 483,\n",
              "            487, 493, 506, 509, 525, 533, 534, 561, 572, 594, 604],\n",
              "           dtype='int64')"
            ]
          },
          "metadata": {},
          "execution_count": 40
        }
      ],
      "source": [
        "ind2=train_data['ApplicantIncome']>up_lim1\n",
        "train_data.loc[ind2].index"
      ]
    },
    {
      "cell_type": "code",
      "execution_count": 41,
      "metadata": {
        "id": "S-7Whv35YzKn"
      },
      "outputs": [],
      "source": [
        "train_data.drop([9,  34,  54,  67, 102, 106, 115, 119, 126, 128, 130, 138, 144,\n",
        "            146, 155, 171, 183, 185, 191, 199, 254, 258, 271, 278, 284, 308,\n",
        "            324, 333, 369, 370, 409, 424, 432, 438, 443, 467, 475, 478, 483,\n",
        "            487, 493, 506, 509, 525, 533, 534, 561, 572, 594, 604 ],inplace=True)"
      ]
    },
    {
      "cell_type": "code",
      "execution_count": 42,
      "metadata": {
        "colab": {
          "base_uri": "https://localhost:8080/"
        },
        "id": "zChQgz-eWpUo",
        "outputId": "7466a79a-89fd-4986-b77e-576c6bde684d"
      },
      "outputs": [
        {
          "output_type": "stream",
          "name": "stderr",
          "text": [
            "<ipython-input-42-4048f4a22b9d>:1: DeprecationWarning: the `interpolation=` argument to percentile was renamed to `method=`, which has additional options.\n",
            "Users of the modes 'nearest', 'lower', 'higher', or 'midpoint' are encouraged to review the method they. (Deprecated NumPy 1.22)\n",
            "  Q12=np.percentile(train_data['CoapplicantIncome'],25,interpolation='midpoint')\n",
            "<ipython-input-42-4048f4a22b9d>:2: DeprecationWarning: the `interpolation=` argument to percentile was renamed to `method=`, which has additional options.\n",
            "Users of the modes 'nearest', 'lower', 'higher', or 'midpoint' are encouraged to review the method they. (Deprecated NumPy 1.22)\n",
            "  Q22=np.percentile(train_data['CoapplicantIncome'],50,interpolation='midpoint')\n",
            "<ipython-input-42-4048f4a22b9d>:3: DeprecationWarning: the `interpolation=` argument to percentile was renamed to `method=`, which has additional options.\n",
            "Users of the modes 'nearest', 'lower', 'higher', or 'midpoint' are encouraged to review the method they. (Deprecated NumPy 1.22)\n",
            "  Q32=np.percentile(train_data['CoapplicantIncome'],75,interpolation='midpoint')\n"
          ]
        }
      ],
      "source": [
        "Q12=np.percentile(train_data['CoapplicantIncome'],25,interpolation='midpoint')\n",
        "Q22=np.percentile(train_data['CoapplicantIncome'],50,interpolation='midpoint')\n",
        "Q32=np.percentile(train_data['CoapplicantIncome'],75,interpolation='midpoint')\n",
        "IQR=Q32-Q12\n",
        "low_lim2=Q12-1.5*IQR\n",
        "up_lim2=Q32+1.5*IQR\n",
        "outlier=[]\n",
        "for x in train_data['CoapplicantIncome']:\n",
        "  if ((x>up_lim2) or (x< low_lim2)):\n",
        "    outlier.append(x)\n"
      ]
    },
    {
      "cell_type": "code",
      "execution_count": 43,
      "metadata": {
        "colab": {
          "base_uri": "https://localhost:8080/"
        },
        "id": "o_tZSdp1WpcL",
        "outputId": "e18ad134-0992-479f-eb46-7273e4e09dc0"
      },
      "outputs": [
        {
          "output_type": "stream",
          "name": "stdout",
          "text": [
            "Int64Index([], dtype='int64')\n",
            "Int64Index([12, 38, 122, 135, 177, 180, 253, 349, 372, 402, 417, 444, 513, 523,\n",
            "            581, 600],\n",
            "           dtype='int64')\n"
          ]
        }
      ],
      "source": [
        "ind1=train_data['CoapplicantIncome']<low_lim2\n",
        "print(train_data.loc[ind1].index)\n",
        "ind2=train_data['CoapplicantIncome']>up_lim2\n",
        "print(train_data.loc[ind2].index)"
      ]
    },
    {
      "cell_type": "code",
      "execution_count": 44,
      "metadata": {
        "id": "FUiV5ImyW5Ni"
      },
      "outputs": [],
      "source": [
        "train_data.drop([12, 38, 122, 135, 177, 180, 253, 349, 372, 402, 417, 444, 513, 523,\n",
        "            581, 600],inplace=True)"
      ]
    },
    {
      "cell_type": "code",
      "execution_count": 45,
      "metadata": {
        "colab": {
          "base_uri": "https://localhost:8080/"
        },
        "id": "k-J4dAy_WqQ-",
        "outputId": "70383eb1-2aa6-458e-c843-bc70d24eb3f3"
      },
      "outputs": [
        {
          "output_type": "stream",
          "name": "stderr",
          "text": [
            "<ipython-input-45-cfe325658b4a>:1: DeprecationWarning: the `interpolation=` argument to percentile was renamed to `method=`, which has additional options.\n",
            "Users of the modes 'nearest', 'lower', 'higher', or 'midpoint' are encouraged to review the method they. (Deprecated NumPy 1.22)\n",
            "  Q13=np.percentile(train_data['LoanAmount'],25,interpolation='midpoint')\n",
            "<ipython-input-45-cfe325658b4a>:2: DeprecationWarning: the `interpolation=` argument to percentile was renamed to `method=`, which has additional options.\n",
            "Users of the modes 'nearest', 'lower', 'higher', or 'midpoint' are encouraged to review the method they. (Deprecated NumPy 1.22)\n",
            "  Q23=np.percentile(train_data['LoanAmount'],50,interpolation='midpoint')\n",
            "<ipython-input-45-cfe325658b4a>:3: DeprecationWarning: the `interpolation=` argument to percentile was renamed to `method=`, which has additional options.\n",
            "Users of the modes 'nearest', 'lower', 'higher', or 'midpoint' are encouraged to review the method they. (Deprecated NumPy 1.22)\n",
            "  Q33=np.percentile(train_data['LoanAmount'],75,interpolation='midpoint')\n"
          ]
        }
      ],
      "source": [
        "Q13=np.percentile(train_data['LoanAmount'],25,interpolation='midpoint')\n",
        "Q23=np.percentile(train_data['LoanAmount'],50,interpolation='midpoint')\n",
        "Q33=np.percentile(train_data['LoanAmount'],75,interpolation='midpoint')\n",
        "IQR=Q33-Q13\n",
        "low_lim3=Q13-1.5*IQR\n",
        "up_lim3=Q33+1.5*IQR\n",
        "outlier=[]\n",
        "for x in train_data['LoanAmount']:\n",
        "  if ((x>up_lim3) or (x< low_lim3)):\n",
        "    outlier.append(x)\n"
      ]
    },
    {
      "cell_type": "code",
      "execution_count": 46,
      "metadata": {
        "colab": {
          "base_uri": "https://localhost:8080/"
        },
        "id": "IkPMLQpbWqZO",
        "outputId": "6eb6f24a-6020-4c16-8819-d28c5db8830e"
      },
      "outputs": [
        {
          "output_type": "execute_result",
          "data": {
            "text/plain": [
              "Int64Index([14, 568], dtype='int64')"
            ]
          },
          "metadata": {},
          "execution_count": 46
        }
      ],
      "source": [
        "ind1=train_data['LoanAmount']<low_lim3\n",
        "train_data.loc[ind1].index\n"
      ]
    },
    {
      "cell_type": "code",
      "execution_count": 47,
      "metadata": {
        "colab": {
          "base_uri": "https://localhost:8080/"
        },
        "id": "VjBKbSy-0R5r",
        "outputId": "e84cbc96-0cf3-4904-9fe9-a22e33c31755"
      },
      "outputs": [
        {
          "output_type": "execute_result",
          "data": {
            "text/plain": [
              "Int64Index([  5,  21,  65,  83, 152, 159, 161, 212, 233, 236, 255, 260, 325,\n",
              "            348, 351, 381, 391, 484, 505, 511, 514, 536, 557, 564, 592, 611],\n",
              "           dtype='int64')"
            ]
          },
          "metadata": {},
          "execution_count": 47
        }
      ],
      "source": [
        "ind2=train_data['LoanAmount']>up_lim3\n",
        "train_data.loc[ind2].index"
      ]
    },
    {
      "cell_type": "code",
      "execution_count": 48,
      "metadata": {
        "id": "pqrjKzGRW8o-"
      },
      "outputs": [],
      "source": [
        "train_data.drop([ 14, 568, 5,  21, 152, 159, 161, 212, 233, 236, 255, 260, 325, 348, 351,\n",
        "            381, 391, 484, 505, 511, 514, 536, 557, 564, 592, 611],inplace=True)"
      ]
    },
    {
      "cell_type": "code",
      "execution_count": 49,
      "metadata": {
        "colab": {
          "base_uri": "https://localhost:8080/",
          "height": 430
        },
        "id": "0hVRIL9aX-aI",
        "outputId": "17889c47-6239-4c5e-b660-f9cd78690ee0"
      },
      "outputs": [
        {
          "output_type": "display_data",
          "data": {
            "text/plain": [
              "<Figure size 640x480 with 1 Axes>"
            ],
            "image/png": "[encoded data removed]"
          },
          "metadata": {}
        }
      ],
      "source": [
        "train_data.boxplot(column=['ApplicantIncome', 'CoapplicantIncome', 'LoanAmount'])\n",
        "plt.show()"
      ]
    },
    {
      "cell_type": "code",
      "execution_count": 50,
      "metadata": {
        "id": "A7ijhR1h0R5v"
      },
      "outputs": [],
      "source": [
        "#Test_data outlier handeling"
      ]
    },
    {
      "cell_type": "code",
      "execution_count": 51,
      "metadata": {
        "colab": {
          "base_uri": "https://localhost:8080/"
        },
        "id": "Ivk_38sg0R5w",
        "outputId": "339e0193-c8ee-4215-e296-80b26f69cc30"
      },
      "outputs": [
        {
          "output_type": "stream",
          "name": "stderr",
          "text": [
            "<ipython-input-51-1e93ce223d65>:1: DeprecationWarning: the `interpolation=` argument to percentile was renamed to `method=`, which has additional options.\n",
            "Users of the modes 'nearest', 'lower', 'higher', or 'midpoint' are encouraged to review the method they. (Deprecated NumPy 1.22)\n",
            "  Q11=np.percentile(test_data['ApplicantIncome'],25,interpolation='midpoint')\n",
            "<ipython-input-51-1e93ce223d65>:2: DeprecationWarning: the `interpolation=` argument to percentile was renamed to `method=`, which has additional options.\n",
            "Users of the modes 'nearest', 'lower', 'higher', or 'midpoint' are encouraged to review the method they. (Deprecated NumPy 1.22)\n",
            "  Q31=np.percentile(test_data['ApplicantIncome'],75,interpolation='midpoint')\n"
          ]
        },
        {
          "output_type": "execute_result",
          "data": {
            "text/plain": [
              "Int64Index([], dtype='int64')"
            ]
          },
          "metadata": {},
          "execution_count": 51
        }
      ],
      "source": [
        "Q11=np.percentile(test_data['ApplicantIncome'],25,interpolation='midpoint')\n",
        "Q31=np.percentile(test_data['ApplicantIncome'],75,interpolation='midpoint')\n",
        "IQR=Q31-Q11\n",
        "low_lim1=Q11-1.5*IQR\n",
        "up_lim1=Q31+1.5*IQR\n",
        "outlier=[]\n",
        "for x in test_data['ApplicantIncome']:\n",
        "  if ((x>up_lim1) or (x< low_lim1)):\n",
        "    outlier.append(x)\n",
        "    \n",
        "ind1=test_data['ApplicantIncome']<low_lim1\n",
        "test_data.loc[ind1].index\n"
      ]
    },
    {
      "cell_type": "code",
      "execution_count": 52,
      "metadata": {
        "colab": {
          "base_uri": "https://localhost:8080/"
        },
        "id": "FZiMk9HR0R5x",
        "outputId": "600ce63b-eca0-4504-f112-c0024baaf742"
      },
      "outputs": [
        {
          "output_type": "execute_result",
          "data": {
            "text/plain": [
              "Int64Index([  8,  13,  18,  81,  83,  91,  98, 124, 143, 144, 145, 147, 179,\n",
              "            184, 187, 188, 194, 200, 230, 247, 263, 272, 279, 283, 284, 285,\n",
              "            302, 323, 331, 350, 360, 366],\n",
              "           dtype='int64')"
            ]
          },
          "metadata": {},
          "execution_count": 52
        }
      ],
      "source": [
        "ind2=test_data['ApplicantIncome']>up_lim1\n",
        "test_data.loc[ind2].index\n"
      ]
    },
    {
      "cell_type": "code",
      "execution_count": 53,
      "metadata": {
        "id": "0sBILd6C0R5z"
      },
      "outputs": [],
      "source": [
        "test_data.drop([  8,  13,  18,  81,  83,  91,  98, 124, 143, 144, 145, 147, 179,\n",
        "            184, 187, 188, 194, 200, 230, 247, 263, 272, 279, 283, 284, 285,\n",
        "            302, 323, 331, 350, 360, 366],inplace=True)"
      ]
    },
    {
      "cell_type": "code",
      "execution_count": 54,
      "metadata": {
        "colab": {
          "base_uri": "https://localhost:8080/"
        },
        "id": "froLwxCK0R50",
        "outputId": "17139dd8-0f2b-4c50-a018-880d7fa319c5"
      },
      "outputs": [
        {
          "output_type": "stream",
          "name": "stdout",
          "text": [
            "Int64Index([], dtype='int64')\n",
            "Int64Index([25, 85, 123, 237, 351], dtype='int64')\n"
          ]
        },
        {
          "output_type": "stream",
          "name": "stderr",
          "text": [
            "<ipython-input-54-658aa62643fa>:1: DeprecationWarning: the `interpolation=` argument to percentile was renamed to `method=`, which has additional options.\n",
            "Users of the modes 'nearest', 'lower', 'higher', or 'midpoint' are encouraged to review the method they. (Deprecated NumPy 1.22)\n",
            "  Q12=np.percentile(test_data['CoapplicantIncome'],25,interpolation='midpoint')\n",
            "<ipython-input-54-658aa62643fa>:2: DeprecationWarning: the `interpolation=` argument to percentile was renamed to `method=`, which has additional options.\n",
            "Users of the modes 'nearest', 'lower', 'higher', or 'midpoint' are encouraged to review the method they. (Deprecated NumPy 1.22)\n",
            "  Q22=np.percentile(test_data['CoapplicantIncome'],50,interpolation='midpoint')\n",
            "<ipython-input-54-658aa62643fa>:3: DeprecationWarning: the `interpolation=` argument to percentile was renamed to `method=`, which has additional options.\n",
            "Users of the modes 'nearest', 'lower', 'higher', or 'midpoint' are encouraged to review the method they. (Deprecated NumPy 1.22)\n",
            "  Q32=np.percentile(test_data['CoapplicantIncome'],75,interpolation='midpoint')\n"
          ]
        }
      ],
      "source": [
        "Q12=np.percentile(test_data['CoapplicantIncome'],25,interpolation='midpoint')\n",
        "Q22=np.percentile(test_data['CoapplicantIncome'],50,interpolation='midpoint')\n",
        "Q32=np.percentile(test_data['CoapplicantIncome'],75,interpolation='midpoint')\n",
        "IQR=Q32-Q12\n",
        "low_lim2=Q12-1.5*IQR\n",
        "up_lim2=Q32+1.5*IQR\n",
        "outlier=[]\n",
        "for x in test_data['CoapplicantIncome']:\n",
        "  if ((x>up_lim2) or (x< low_lim2)):\n",
        "    outlier.append(x)\n",
        "ind1=test_data['CoapplicantIncome']<low_lim2\n",
        "print(test_data.loc[ind1].index)\n",
        "ind2=test_data['CoapplicantIncome']>up_lim2\n",
        "print(test_data.loc[ind2].index)"
      ]
    },
    {
      "cell_type": "code",
      "execution_count": 55,
      "metadata": {
        "id": "r0BFMC650R51"
      },
      "outputs": [],
      "source": [
        "test_data.drop([25, 85, 123, 237, 351],inplace=True)"
      ]
    },
    {
      "cell_type": "code",
      "execution_count": 56,
      "metadata": {
        "colab": {
          "base_uri": "https://localhost:8080/"
        },
        "id": "BmQT5V260R52",
        "outputId": "4f800c08-7f06-4b10-bcb6-bd4ae32ce6ea"
      },
      "outputs": [
        {
          "output_type": "stream",
          "name": "stderr",
          "text": [
            "<ipython-input-56-baab9f312226>:1: DeprecationWarning: the `interpolation=` argument to percentile was renamed to `method=`, which has additional options.\n",
            "Users of the modes 'nearest', 'lower', 'higher', or 'midpoint' are encouraged to review the method they. (Deprecated NumPy 1.22)\n",
            "  Q13=np.percentile(test_data['LoanAmount'],25,interpolation='midpoint')\n",
            "<ipython-input-56-baab9f312226>:2: DeprecationWarning: the `interpolation=` argument to percentile was renamed to `method=`, which has additional options.\n",
            "Users of the modes 'nearest', 'lower', 'higher', or 'midpoint' are encouraged to review the method they. (Deprecated NumPy 1.22)\n",
            "  Q23=np.percentile(test_data['LoanAmount'],50,interpolation='midpoint')\n",
            "<ipython-input-56-baab9f312226>:3: DeprecationWarning: the `interpolation=` argument to percentile was renamed to `method=`, which has additional options.\n",
            "Users of the modes 'nearest', 'lower', 'higher', or 'midpoint' are encouraged to review the method they. (Deprecated NumPy 1.22)\n",
            "  Q33=np.percentile(test_data['LoanAmount'],75,interpolation='midpoint')\n"
          ]
        }
      ],
      "source": [
        "Q13=np.percentile(test_data['LoanAmount'],25,interpolation='midpoint')\n",
        "Q23=np.percentile(test_data['LoanAmount'],50,interpolation='midpoint')\n",
        "Q33=np.percentile(test_data['LoanAmount'],75,interpolation='midpoint')\n",
        "IQR=Q33-Q13\n",
        "low_lim3=Q13-1.5*IQR\n",
        "up_lim3=Q33+1.5*IQR\n",
        "outlier=[]\n",
        "for x in test_data['LoanAmount']:\n",
        "  if ((x>up_lim3) or (x< low_lim3)):\n",
        "    outlier.append(x)\n"
      ]
    },
    {
      "cell_type": "code",
      "execution_count": 57,
      "metadata": {
        "colab": {
          "base_uri": "https://localhost:8080/"
        },
        "id": "-zD9X9qS0R53",
        "outputId": "ca1b6909-65ac-4294-8524-c0f52e5ac5fc"
      },
      "outputs": [
        {
          "output_type": "execute_result",
          "data": {
            "text/plain": [
              "Int64Index([24, 27, 73, 96, 189, 345], dtype='int64')"
            ]
          },
          "metadata": {},
          "execution_count": 57
        }
      ],
      "source": [
        "ind1=test_data['LoanAmount']<low_lim3\n",
        "test_data.loc[ind1].index\n",
        "ind2=test_data['LoanAmount']>up_lim3\n",
        "test_data.loc[ind2].index"
      ]
    },
    {
      "cell_type": "code",
      "execution_count": 58,
      "metadata": {
        "id": "qNOCb6EB0R55"
      },
      "outputs": [],
      "source": [
        "test_data.drop([24, 27, 73, 96, 189, 345],inplace=True)"
      ]
    },
    {
      "cell_type": "code",
      "execution_count": 59,
      "metadata": {
        "id": "iXy1IHZNYGq4"
      },
      "outputs": [],
      "source": [
        "from sklearn.preprocessing import StandardScaler\n",
        "scaler=StandardScaler()\n"
      ]
    },
    {
      "cell_type": "code",
      "execution_count": 60,
      "metadata": {
        "id": "Tf8Oq9AIVtVF"
      },
      "outputs": [],
      "source": [
        "train_data[['ApplicantIncome', 'CoapplicantIncome', 'LoanAmount']] = scaler.fit_transform(train_data[['ApplicantIncome', 'CoapplicantIncome', 'LoanAmount']])\n",
        "test_data[['ApplicantIncome', 'CoapplicantIncome', 'LoanAmount']] = scaler.fit_transform(test_data[['ApplicantIncome', 'CoapplicantIncome', 'LoanAmount']])\n"
      ]
    },
    {
      "cell_type": "code",
      "execution_count": 61,
      "metadata": {
        "id": "X2dAR-730R59"
      },
      "outputs": [],
      "source": [
        "from sklearn.model_selection import train_test_split"
      ]
    },
    {
      "cell_type": "code",
      "execution_count": 62,
      "metadata": {
        "id": "y3M1D3Qo0R5_"
      },
      "outputs": [],
      "source": [
        "X = train_data.drop('Loan_Status', axis=1)\n",
        "y = train_data['Loan_Status']\n",
        "X_train, X_test, y_train, y_test = train_test_split(X, y, test_size=0.2, random_state=42)\n"
      ]
    },
    {
      "cell_type": "code",
      "execution_count": 63,
      "metadata": {
        "colab": {
          "base_uri": "https://localhost:8080/"
        },
        "id": "aZkj_K_-0R6A",
        "outputId": "c631d757-2af1-42ee-d2e7-1b6c309e8279"
      },
      "outputs": [
        {
          "output_type": "stream",
          "name": "stdout",
          "text": [
            "Shape of X: (522, 12)\n",
            "Shape of y: (522,)\n"
          ]
        }
      ],
      "source": [
        "print(\"Shape of X:\", X.shape)\n",
        "print(\"Shape of y:\", y.shape)"
      ]
    },
    {
      "cell_type": "code",
      "execution_count": 64,
      "metadata": {
        "colab": {
          "base_uri": "https://localhost:8080/"
        },
        "id": "Au6kzm9B0R6C",
        "outputId": "89c40c19-ab46-4938-da34-af27370be268"
      },
      "outputs": [
        {
          "output_type": "stream",
          "name": "stdout",
          "text": [
            "Accuracy is  0.8095238095238095\n",
            "precision is  0.7790697674418605\n",
            "Recall is  0.9852941176470589\n",
            "f1 score is  0.8701298701298702\n",
            "Confusion Matrix:\n"
          ]
        },
        {
          "output_type": "stream",
          "name": "stderr",
          "text": [
            "/usr/local/lib/python3.10/dist-packages/sklearn/linear_model/_logistic.py:458: ConvergenceWarning: lbfgs failed to converge (status=1):\n",
            "STOP: TOTAL NO. of ITERATIONS REACHED LIMIT.\n",
            "\n",
            "Increase the number of iterations (max_iter) or scale the data as shown in:\n",
            "    https://scikit-learn.org/stable/modules/preprocessing.html\n",
            "Please also refer to the documentation for alternative solver options:\n",
            "    https://scikit-learn.org/stable/modules/linear_model.html#logistic-regression\n",
            "  n_iter_i = _check_optimize_result(\n"
          ]
        },
        {
          "output_type": "execute_result",
          "data": {
            "text/plain": [
              "array([[18, 19],\n",
              "       [ 1, 67]])"
            ]
          },
          "metadata": {},
          "execution_count": 64
        }
      ],
      "source": [
        "#Logistic Regression#train_data\n",
        "from sklearn.linear_model import LogisticRegression\n",
        "from sklearn.metrics import confusion_matrix,accuracy_score,precision_score,recall_score,f1_score\n",
        "\n",
        "model = LogisticRegression()\n",
        "model.fit(X_train, y_train)\n",
        "y_pred = model.predict(X_test)\n",
        "accuracy = accuracy_score(y_test, y_pred)\n",
        "print('Accuracy is ',accuracy_score(y_test,y_pred))\n",
        "print('precision is ',precision_score(y_test,y_pred))\n",
        "print('Recall is ',recall_score(y_test,y_pred))\n",
        "print('f1 score is ',f1_score(y_test,y_pred))\n",
        "print(\"Confusion Matrix:\")\n",
        "confusion_matrix(y_test,y_pred)"
      ]
    },
    {
      "cell_type": "code",
      "execution_count": 64,
      "metadata": {
        "id": "90ZXmJb10R6E"
      },
      "outputs": [],
      "source": []
    },
    {
      "cell_type": "code",
      "execution_count": 65,
      "metadata": {
        "id": "rOwGdYC10R6F"
      },
      "outputs": [],
      "source": [
        "#DecisionTree"
      ]
    },
    {
      "cell_type": "code",
      "execution_count": 66,
      "metadata": {
        "colab": {
          "base_uri": "https://localhost:8080/"
        },
        "id": "QjOE5RCi0R6G",
        "outputId": "66696429-e07b-41d5-dcd7-ad16f4ef9e39"
      },
      "outputs": [
        {
          "output_type": "stream",
          "name": "stdout",
          "text": [
            "Accuracy is  0.7714285714285715\n",
            "precision is  0.8055555555555556\n",
            "Recall is  0.8529411764705882\n",
            "f1 score is  0.8285714285714286\n",
            "Confusion Matrix:\n"
          ]
        },
        {
          "output_type": "execute_result",
          "data": {
            "text/plain": [
              "array([[23, 14],\n",
              "       [10, 58]])"
            ]
          },
          "metadata": {},
          "execution_count": 66
        }
      ],
      "source": [
        "from sklearn.tree import DecisionTreeClassifier\n",
        "classifier = DecisionTreeClassifier()\n",
        "classifier.fit(X_train, y_train)\n",
        "y_pred1 = classifier.predict(X_test)\n",
        "accuracy = accuracy_score(y_test, y_pred1)\n",
        "print('Accuracy is ',accuracy_score(y_test,y_pred1))\n",
        "print('precision is ',precision_score(y_test,y_pred1))\n",
        "print('Recall is ',recall_score(y_test,y_pred1))\n",
        "print('f1 score is ',f1_score(y_test,y_pred1))\n",
        "print(\"Confusion Matrix:\")\n",
        "confusion_matrix(y_test,y_pred1)"
      ]
    },
    {
      "cell_type": "code",
      "execution_count": 67,
      "metadata": {
        "id": "w6glxLPD0R6I"
      },
      "outputs": [],
      "source": [
        "#RandomForest"
      ]
    },
    {
      "cell_type": "code",
      "execution_count": 68,
      "metadata": {
        "colab": {
          "base_uri": "https://localhost:8080/"
        },
        "id": "PFC1X5J40R6J",
        "outputId": "e156a2cc-0332-406e-f1d5-5e1e494e776f"
      },
      "outputs": [
        {
          "output_type": "stream",
          "name": "stdout",
          "text": [
            "Accuracy is  0.8095238095238095\n",
            "precision is  0.7790697674418605\n",
            "Recall is  0.9852941176470589\n",
            "f1 score is  0.8701298701298702\n",
            "Confusion Matrix:\n"
          ]
        },
        {
          "output_type": "execute_result",
          "data": {
            "text/plain": [
              "array([[18, 19],\n",
              "       [ 1, 67]])"
            ]
          },
          "metadata": {},
          "execution_count": 68
        }
      ],
      "source": [
        "from sklearn.ensemble import RandomForestClassifier\n",
        "rf_model = RandomForestClassifier(n_estimators=100, random_state=42)\n",
        "rf_model.fit(X_train, y_train)\n",
        "y_pred2 = rf_model.predict(X_test)\n",
        "accuracy = accuracy_score(y_test, y_pred2)\n",
        "print('Accuracy is ',accuracy_score(y_test,y_pred2))\n",
        "print('precision is ',precision_score(y_test,y_pred2))\n",
        "print('Recall is ',recall_score(y_test,y_pred2))\n",
        "print('f1 score is ',f1_score(y_test,y_pred2))\n",
        "print(\"Confusion Matrix:\")\n",
        "confusion_matrix(y_test,y_pred2)"
      ]
    },
    {
      "cell_type": "code",
      "execution_count": 69,
      "metadata": {
        "colab": {
          "base_uri": "https://localhost:8080/"
        },
        "id": "KztyT8bc0R6J",
        "outputId": "6aad4481-5daf-4b19-8820-233555e58891"
      },
      "outputs": [
        {
          "output_type": "stream",
          "name": "stdout",
          "text": [
            "Accuracy: 0.819047619047619\n",
            "Precision: 0.810126582278481\n",
            "Recall: 0.9411764705882353\n",
            "F1-Score: 0.8707482993197279\n",
            "Confusion Matrix:\n",
            "[[22 15]\n",
            " [ 4 64]]\n"
          ]
        }
      ],
      "source": [
        "import xgboost as xgb\n",
        "model = xgb.XGBClassifier()\n",
        "model.fit(X_train, y_train)\n",
        "y_pred3 =model.predict(X_test)\n",
        "accuracy = accuracy_score(y_test, y_pred3)\n",
        "precision = precision_score(y_test, y_pred3)\n",
        "recall = recall_score(y_test, y_pred3)\n",
        "f1 = f1_score(y_test, y_pred3)\n",
        "print(\"Accuracy:\", accuracy)\n",
        "print(\"Precision:\", precision)\n",
        "print(\"Recall:\", recall)\n",
        "print(\"F1-Score:\", f1)\n",
        "cm = confusion_matrix(y_test, y_pred3)\n",
        "print(\"Confusion Matrix:\")\n",
        "print(cm)"
      ]
    },
    {
      "cell_type": "code",
      "execution_count": 70,
      "metadata": {
        "colab": {
          "base_uri": "https://localhost:8080/"
        },
        "id": "2UOyFveN0R6K",
        "outputId": "07ef0c7a-3587-4562-a287-57fa537b9bbf"
      },
      "outputs": [
        {
          "output_type": "stream",
          "name": "stdout",
          "text": [
            "<class 'pandas.core.frame.DataFrame'>\n",
            "Int64Index: 522 entries, 0 to 613\n",
            "Data columns (total 13 columns):\n",
            " #   Column             Non-Null Count  Dtype  \n",
            "---  ------             --------------  -----  \n",
            " 0   Loan_ID            522 non-null    int64  \n",
            " 1   Gender             522 non-null    int64  \n",
            " 2   Married            522 non-null    int64  \n",
            " 3   Dependents         522 non-null    int64  \n",
            " 4   Education          522 non-null    int64  \n",
            " 5   Self_Employed      522 non-null    int64  \n",
            " 6   ApplicantIncome    522 non-null    float64\n",
            " 7   CoapplicantIncome  522 non-null    float64\n",
            " 8   LoanAmount         522 non-null    float64\n",
            " 9   Loan_Amount_Term   522 non-null    float64\n",
            " 10  Credit_History     522 non-null    float64\n",
            " 11  Property_Area      522 non-null    int64  \n",
            " 12  Loan_Status        522 non-null    int64  \n",
            "dtypes: float64(5), int64(8)\n",
            "memory usage: 57.1 KB\n"
          ]
        }
      ],
      "source": [
        "train_data.info()"
      ]
    },
    {
      "cell_type": "code",
      "execution_count": 71,
      "metadata": {
        "colab": {
          "base_uri": "https://localhost:8080/"
        },
        "id": "IMpe3vY_0R6L",
        "outputId": "7f384031-9640-410f-ef1e-a8adf39375a7"
      },
      "outputs": [
        {
          "output_type": "stream",
          "name": "stdout",
          "text": [
            "Training index : [ 53  54  55  56  57  58  59  60  61  62  63  64  65  66  67  68  69  70\n",
            "  71  72  73  74  75  76  77  78  79  80  81  82  83  84  85  86  87  88\n",
            "  89  90  91  92  93  94  95  96  97  98  99 100 101 102 103 104 105 106\n",
            " 107 108 109 110 111 112 113 114 115 116 117 118 119 120 121 122 123 124\n",
            " 125 126 127 128 129 130 131 132 133 134 135 136 137 138 139 140 141 142\n",
            " 143 144 145 146 147 148 149 150 151 152 153 154 155 156 157 158 159 160\n",
            " 161 162 163 164 165 166 167 168 169 170 171 172 173 174 175 176 177 178\n",
            " 179 180 181 182 183 184 185 186 187 188 189 190 191 192 193 194 195 196\n",
            " 197 198 199 200 201 202 203 204 205 206 207 208 209 210 211 212 213 214\n",
            " 215 216 217 218 219 220 221 222 223 224 225 226 227 228 229 230 231 232\n",
            " 233 234 235 236 237 238 239 240 241 242 243 244 245 246 247 248 249 250\n",
            " 251 252 253 254 255 256 257 258 259 260 261 262 263 264 265 266 267 268\n",
            " 269 270 271 272 273 274 275 276 277 278 279 280 281 282 283 284 285 286\n",
            " 287 288 289 290 291 292 293 294 295 296 297 298 299 300 301 302 303 304\n",
            " 305 306 307 308 309 310 311 312 313 314 315 316 317 318 319 320 321 322\n",
            " 323 324 325 326 327 328 329 330 331 332 333 334 335 336 337 338 339 340\n",
            " 341 342 343 344 345 346 347 348 349 350 351 352 353 354 355 356 357 358\n",
            " 359 360 361 362 363 364 365 366 367 368 369 370 371 372 373 374 375 376\n",
            " 377 378 379 380 381 382 383 384 385 386 387 388 389 390 391 392 393 394\n",
            " 395 396 397 398 399 400 401 402 403 404 405 406 407 408 409 410 411 412\n",
            " 413 414 415 416 417 418 419 420 421 422 423 424 425 426 427 428 429 430\n",
            " 431 432 433 434 435 436 437 438 439 440 441 442 443 444 445 446 447 448\n",
            " 449 450 451 452 453 454 455 456 457 458 459 460 461 462 463 464 465 466\n",
            " 467 468 469 470 471 472 473 474 475 476 477 478 479 480 481 482 483 484\n",
            " 485 486 487 488 489 490 491 492 493 494 495 496 497 498 499 500 501 502\n",
            " 503 504 505 506 507 508 509 510 511 512 513 514 515 516 517 518 519 520\n",
            " 521]\n",
            "Testing index : [ 0  1  2  3  4  5  6  7  8  9 10 11 12 13 14 15 16 17 18 19 20 21 22 23\n",
            " 24 25 26 27 28 29 30 31 32 33 34 35 36 37 38 39 40 41 42 43 44 45 46 47\n",
            " 48 49 50 51 52]\n",
            "Training index : [  0   1   2   3   4   5   6   7   8   9  10  11  12  13  14  15  16  17\n",
            "  18  19  20  21  22  23  24  25  26  27  28  29  30  31  32  33  34  35\n",
            "  36  37  38  39  40  41  42  43  44  45  46  47  48  49  50  51  52 106\n",
            " 107 108 109 110 111 112 113 114 115 116 117 118 119 120 121 122 123 124\n",
            " 125 126 127 128 129 130 131 132 133 134 135 136 137 138 139 140 141 142\n",
            " 143 144 145 146 147 148 149 150 151 152 153 154 155 156 157 158 159 160\n",
            " 161 162 163 164 165 166 167 168 169 170 171 172 173 174 175 176 177 178\n",
            " 179 180 181 182 183 184 185 186 187 188 189 190 191 192 193 194 195 196\n",
            " 197 198 199 200 201 202 203 204 205 206 207 208 209 210 211 212 213 214\n",
            " 215 216 217 218 219 220 221 222 223 224 225 226 227 228 229 230 231 232\n",
            " 233 234 235 236 237 238 239 240 241 242 243 244 245 246 247 248 249 250\n",
            " 251 252 253 254 255 256 257 258 259 260 261 262 263 264 265 266 267 268\n",
            " 269 270 271 272 273 274 275 276 277 278 279 280 281 282 283 284 285 286\n",
            " 287 288 289 290 291 292 293 294 295 296 297 298 299 300 301 302 303 304\n",
            " 305 306 307 308 309 310 311 312 313 314 315 316 317 318 319 320 321 322\n",
            " 323 324 325 326 327 328 329 330 331 332 333 334 335 336 337 338 339 340\n",
            " 341 342 343 344 345 346 347 348 349 350 351 352 353 354 355 356 357 358\n",
            " 359 360 361 362 363 364 365 366 367 368 369 370 371 372 373 374 375 376\n",
            " 377 378 379 380 381 382 383 384 385 386 387 388 389 390 391 392 393 394\n",
            " 395 396 397 398 399 400 401 402 403 404 405 406 407 408 409 410 411 412\n",
            " 413 414 415 416 417 418 419 420 421 422 423 424 425 426 427 428 429 430\n",
            " 431 432 433 434 435 436 437 438 439 440 441 442 443 444 445 446 447 448\n",
            " 449 450 451 452 453 454 455 456 457 458 459 460 461 462 463 464 465 466\n",
            " 467 468 469 470 471 472 473 474 475 476 477 478 479 480 481 482 483 484\n",
            " 485 486 487 488 489 490 491 492 493 494 495 496 497 498 499 500 501 502\n",
            " 503 504 505 506 507 508 509 510 511 512 513 514 515 516 517 518 519 520\n",
            " 521]\n",
            "Testing index : [ 53  54  55  56  57  58  59  60  61  62  63  64  65  66  67  68  69  70\n",
            "  71  72  73  74  75  76  77  78  79  80  81  82  83  84  85  86  87  88\n",
            "  89  90  91  92  93  94  95  96  97  98  99 100 101 102 103 104 105]\n",
            "Training index : [  0   1   2   3   4   5   6   7   8   9  10  11  12  13  14  15  16  17\n",
            "  18  19  20  21  22  23  24  25  26  27  28  29  30  31  32  33  34  35\n",
            "  36  37  38  39  40  41  42  43  44  45  46  47  48  49  50  51  52  53\n",
            "  54  55  56  57  58  59  60  61  62  63  64  65  66  67  68  69  70  71\n",
            "  72  73  74  75  76  77  78  79  80  81  82  83  84  85  86  87  88  89\n",
            "  90  91  92  93  94  95  96  97  98  99 100 101 102 103 104 105 158 159\n",
            " 160 161 162 163 164 165 166 167 168 169 170 171 172 173 174 175 176 177\n",
            " 178 179 180 181 182 183 184 185 186 187 188 189 190 191 192 193 194 195\n",
            " 196 197 198 199 200 201 202 203 204 205 206 207 208 209 210 211 212 213\n",
            " 214 215 216 217 218 219 220 221 222 223 224 225 226 227 228 229 230 231\n",
            " 232 233 234 235 236 237 238 239 240 241 242 243 244 245 246 247 248 249\n",
            " 250 251 252 253 254 255 256 257 258 259 260 261 262 263 264 265 266 267\n",
            " 268 269 270 271 272 273 274 275 276 277 278 279 280 281 282 283 284 285\n",
            " 286 287 288 289 290 291 292 293 294 295 296 297 298 299 300 301 302 303\n",
            " 304 305 306 307 308 309 310 311 312 313 314 315 316 317 318 319 320 321\n",
            " 322 323 324 325 326 327 328 329 330 331 332 333 334 335 336 337 338 339\n",
            " 340 341 342 343 344 345 346 347 348 349 350 351 352 353 354 355 356 357\n",
            " 358 359 360 361 362 363 364 365 366 367 368 369 370 371 372 373 374 375\n",
            " 376 377 378 379 380 381 382 383 384 385 386 387 388 389 390 391 392 393\n",
            " 394 395 396 397 398 399 400 401 402 403 404 405 406 407 408 409 410 411\n",
            " 412 413 414 415 416 417 418 419 420 421 422 423 424 425 426 427 428 429\n",
            " 430 431 432 433 434 435 436 437 438 439 440 441 442 443 444 445 446 447\n",
            " 448 449 450 451 452 453 454 455 456 457 458 459 460 461 462 463 464 465\n",
            " 466 467 468 469 470 471 472 473 474 475 476 477 478 479 480 481 482 483\n",
            " 484 485 486 487 488 489 490 491 492 493 494 495 496 497 498 499 500 501\n",
            " 502 503 504 505 506 507 508 509 510 511 512 513 514 515 516 517 518 519\n",
            " 520 521]\n",
            "Testing index : [106 107 108 109 110 111 112 113 114 115 116 117 118 119 120 121 122 123\n",
            " 124 125 126 127 128 129 130 131 132 133 134 135 136 137 138 139 140 141\n",
            " 142 143 144 145 146 147 148 149 150 151 152 153 154 155 156 157]\n",
            "Training index : [  0   1   2   3   4   5   6   7   8   9  10  11  12  13  14  15  16  17\n",
            "  18  19  20  21  22  23  24  25  26  27  28  29  30  31  32  33  34  35\n",
            "  36  37  38  39  40  41  42  43  44  45  46  47  48  49  50  51  52  53\n",
            "  54  55  56  57  58  59  60  61  62  63  64  65  66  67  68  69  70  71\n",
            "  72  73  74  75  76  77  78  79  80  81  82  83  84  85  86  87  88  89\n",
            "  90  91  92  93  94  95  96  97  98  99 100 101 102 103 104 105 106 107\n",
            " 108 109 110 111 112 113 114 115 116 117 118 119 120 121 122 123 124 125\n",
            " 126 127 128 129 130 131 132 133 134 135 136 137 138 139 140 141 142 143\n",
            " 144 145 146 147 148 149 150 151 152 153 154 155 156 157 210 211 212 213\n",
            " 214 215 216 217 218 219 220 221 222 223 224 225 226 227 228 229 230 231\n",
            " 232 233 234 235 236 237 238 239 240 241 242 243 244 245 246 247 248 249\n",
            " 250 251 252 253 254 255 256 257 258 259 260 261 262 263 264 265 266 267\n",
            " 268 269 270 271 272 273 274 275 276 277 278 279 280 281 282 283 284 285\n",
            " 286 287 288 289 290 291 292 293 294 295 296 297 298 299 300 301 302 303\n",
            " 304 305 306 307 308 309 310 311 312 313 314 315 316 317 318 319 320 321\n",
            " 322 323 324 325 326 327 328 329 330 331 332 333 334 335 336 337 338 339\n",
            " 340 341 342 343 344 345 346 347 348 349 350 351 352 353 354 355 356 357\n",
            " 358 359 360 361 362 363 364 365 366 367 368 369 370 371 372 373 374 375\n",
            " 376 377 378 379 380 381 382 383 384 385 386 387 388 389 390 391 392 393\n",
            " 394 395 396 397 398 399 400 401 402 403 404 405 406 407 408 409 410 411\n",
            " 412 413 414 415 416 417 418 419 420 421 422 423 424 425 426 427 428 429\n",
            " 430 431 432 433 434 435 436 437 438 439 440 441 442 443 444 445 446 447\n",
            " 448 449 450 451 452 453 454 455 456 457 458 459 460 461 462 463 464 465\n",
            " 466 467 468 469 470 471 472 473 474 475 476 477 478 479 480 481 482 483\n",
            " 484 485 486 487 488 489 490 491 492 493 494 495 496 497 498 499 500 501\n",
            " 502 503 504 505 506 507 508 509 510 511 512 513 514 515 516 517 518 519\n",
            " 520 521]\n",
            "Testing index : [158 159 160 161 162 163 164 165 166 167 168 169 170 171 172 173 174 175\n",
            " 176 177 178 179 180 181 182 183 184 185 186 187 188 189 190 191 192 193\n",
            " 194 195 196 197 198 199 200 201 202 203 204 205 206 207 208 209]\n",
            "Training index : [  0   1   2   3   4   5   6   7   8   9  10  11  12  13  14  15  16  17\n",
            "  18  19  20  21  22  23  24  25  26  27  28  29  30  31  32  33  34  35\n",
            "  36  37  38  39  40  41  42  43  44  45  46  47  48  49  50  51  52  53\n",
            "  54  55  56  57  58  59  60  61  62  63  64  65  66  67  68  69  70  71\n",
            "  72  73  74  75  76  77  78  79  80  81  82  83  84  85  86  87  88  89\n",
            "  90  91  92  93  94  95  96  97  98  99 100 101 102 103 104 105 106 107\n",
            " 108 109 110 111 112 113 114 115 116 117 118 119 120 121 122 123 124 125\n",
            " 126 127 128 129 130 131 132 133 134 135 136 137 138 139 140 141 142 143\n",
            " 144 145 146 147 148 149 150 151 152 153 154 155 156 157 158 159 160 161\n",
            " 162 163 164 165 166 167 168 169 170 171 172 173 174 175 176 177 178 179\n",
            " 180 181 182 183 184 185 186 187 188 189 190 191 192 193 194 195 196 197\n",
            " 198 199 200 201 202 203 204 205 206 207 208 209 262 263 264 265 266 267\n",
            " 268 269 270 271 272 273 274 275 276 277 278 279 280 281 282 283 284 285\n",
            " 286 287 288 289 290 291 292 293 294 295 296 297 298 299 300 301 302 303\n",
            " 304 305 306 307 308 309 310 311 312 313 314 315 316 317 318 319 320 321\n",
            " 322 323 324 325 326 327 328 329 330 331 332 333 334 335 336 337 338 339\n",
            " 340 341 342 343 344 345 346 347 348 349 350 351 352 353 354 355 356 357\n",
            " 358 359 360 361 362 363 364 365 366 367 368 369 370 371 372 373 374 375\n",
            " 376 377 378 379 380 381 382 383 384 385 386 387 388 389 390 391 392 393\n",
            " 394 395 396 397 398 399 400 401 402 403 404 405 406 407 408 409 410 411\n",
            " 412 413 414 415 416 417 418 419 420 421 422 423 424 425 426 427 428 429\n",
            " 430 431 432 433 434 435 436 437 438 439 440 441 442 443 444 445 446 447\n",
            " 448 449 450 451 452 453 454 455 456 457 458 459 460 461 462 463 464 465\n",
            " 466 467 468 469 470 471 472 473 474 475 476 477 478 479 480 481 482 483\n",
            " 484 485 486 487 488 489 490 491 492 493 494 495 496 497 498 499 500 501\n",
            " 502 503 504 505 506 507 508 509 510 511 512 513 514 515 516 517 518 519\n",
            " 520 521]\n",
            "Testing index : [210 211 212 213 214 215 216 217 218 219 220 221 222 223 224 225 226 227\n",
            " 228 229 230 231 232 233 234 235 236 237 238 239 240 241 242 243 244 245\n",
            " 246 247 248 249 250 251 252 253 254 255 256 257 258 259 260 261]\n",
            "Training index : [  0   1   2   3   4   5   6   7   8   9  10  11  12  13  14  15  16  17\n",
            "  18  19  20  21  22  23  24  25  26  27  28  29  30  31  32  33  34  35\n",
            "  36  37  38  39  40  41  42  43  44  45  46  47  48  49  50  51  52  53\n",
            "  54  55  56  57  58  59  60  61  62  63  64  65  66  67  68  69  70  71\n",
            "  72  73  74  75  76  77  78  79  80  81  82  83  84  85  86  87  88  89\n",
            "  90  91  92  93  94  95  96  97  98  99 100 101 102 103 104 105 106 107\n",
            " 108 109 110 111 112 113 114 115 116 117 118 119 120 121 122 123 124 125\n",
            " 126 127 128 129 130 131 132 133 134 135 136 137 138 139 140 141 142 143\n",
            " 144 145 146 147 148 149 150 151 152 153 154 155 156 157 158 159 160 161\n",
            " 162 163 164 165 166 167 168 169 170 171 172 173 174 175 176 177 178 179\n",
            " 180 181 182 183 184 185 186 187 188 189 190 191 192 193 194 195 196 197\n",
            " 198 199 200 201 202 203 204 205 206 207 208 209 210 211 212 213 214 215\n",
            " 216 217 218 219 220 221 222 223 224 225 226 227 228 229 230 231 232 233\n",
            " 234 235 236 237 238 239 240 241 242 243 244 245 246 247 248 249 250 251\n",
            " 252 253 254 255 256 257 258 259 260 261 314 315 316 317 318 319 320 321\n",
            " 322 323 324 325 326 327 328 329 330 331 332 333 334 335 336 337 338 339\n",
            " 340 341 342 343 344 345 346 347 348 349 350 351 352 353 354 355 356 357\n",
            " 358 359 360 361 362 363 364 365 366 367 368 369 370 371 372 373 374 375\n",
            " 376 377 378 379 380 381 382 383 384 385 386 387 388 389 390 391 392 393\n",
            " 394 395 396 397 398 399 400 401 402 403 404 405 406 407 408 409 410 411\n",
            " 412 413 414 415 416 417 418 419 420 421 422 423 424 425 426 427 428 429\n",
            " 430 431 432 433 434 435 436 437 438 439 440 441 442 443 444 445 446 447\n",
            " 448 449 450 451 452 453 454 455 456 457 458 459 460 461 462 463 464 465\n",
            " 466 467 468 469 470 471 472 473 474 475 476 477 478 479 480 481 482 483\n",
            " 484 485 486 487 488 489 490 491 492 493 494 495 496 497 498 499 500 501\n",
            " 502 503 504 505 506 507 508 509 510 511 512 513 514 515 516 517 518 519\n",
            " 520 521]\n",
            "Testing index : [262 263 264 265 266 267 268 269 270 271 272 273 274 275 276 277 278 279\n",
            " 280 281 282 283 284 285 286 287 288 289 290 291 292 293 294 295 296 297\n",
            " 298 299 300 301 302 303 304 305 306 307 308 309 310 311 312 313]\n",
            "Training index : [  0   1   2   3   4   5   6   7   8   9  10  11  12  13  14  15  16  17\n",
            "  18  19  20  21  22  23  24  25  26  27  28  29  30  31  32  33  34  35\n",
            "  36  37  38  39  40  41  42  43  44  45  46  47  48  49  50  51  52  53\n",
            "  54  55  56  57  58  59  60  61  62  63  64  65  66  67  68  69  70  71\n",
            "  72  73  74  75  76  77  78  79  80  81  82  83  84  85  86  87  88  89\n",
            "  90  91  92  93  94  95  96  97  98  99 100 101 102 103 104 105 106 107\n",
            " 108 109 110 111 112 113 114 115 116 117 118 119 120 121 122 123 124 125\n",
            " 126 127 128 129 130 131 132 133 134 135 136 137 138 139 140 141 142 143\n",
            " 144 145 146 147 148 149 150 151 152 153 154 155 156 157 158 159 160 161\n",
            " 162 163 164 165 166 167 168 169 170 171 172 173 174 175 176 177 178 179\n",
            " 180 181 182 183 184 185 186 187 188 189 190 191 192 193 194 195 196 197\n",
            " 198 199 200 201 202 203 204 205 206 207 208 209 210 211 212 213 214 215\n",
            " 216 217 218 219 220 221 222 223 224 225 226 227 228 229 230 231 232 233\n",
            " 234 235 236 237 238 239 240 241 242 243 244 245 246 247 248 249 250 251\n",
            " 252 253 254 255 256 257 258 259 260 261 262 263 264 265 266 267 268 269\n",
            " 270 271 272 273 274 275 276 277 278 279 280 281 282 283 284 285 286 287\n",
            " 288 289 290 291 292 293 294 295 296 297 298 299 300 301 302 303 304 305\n",
            " 306 307 308 309 310 311 312 313 366 367 368 369 370 371 372 373 374 375\n",
            " 376 377 378 379 380 381 382 383 384 385 386 387 388 389 390 391 392 393\n",
            " 394 395 396 397 398 399 400 401 402 403 404 405 406 407 408 409 410 411\n",
            " 412 413 414 415 416 417 418 419 420 421 422 423 424 425 426 427 428 429\n",
            " 430 431 432 433 434 435 436 437 438 439 440 441 442 443 444 445 446 447\n",
            " 448 449 450 451 452 453 454 455 456 457 458 459 460 461 462 463 464 465\n",
            " 466 467 468 469 470 471 472 473 474 475 476 477 478 479 480 481 482 483\n",
            " 484 485 486 487 488 489 490 491 492 493 494 495 496 497 498 499 500 501\n",
            " 502 503 504 505 506 507 508 509 510 511 512 513 514 515 516 517 518 519\n",
            " 520 521]\n",
            "Testing index : [314 315 316 317 318 319 320 321 322 323 324 325 326 327 328 329 330 331\n",
            " 332 333 334 335 336 337 338 339 340 341 342 343 344 345 346 347 348 349\n",
            " 350 351 352 353 354 355 356 357 358 359 360 361 362 363 364 365]\n",
            "Training index : [  0   1   2   3   4   5   6   7   8   9  10  11  12  13  14  15  16  17\n",
            "  18  19  20  21  22  23  24  25  26  27  28  29  30  31  32  33  34  35\n",
            "  36  37  38  39  40  41  42  43  44  45  46  47  48  49  50  51  52  53\n",
            "  54  55  56  57  58  59  60  61  62  63  64  65  66  67  68  69  70  71\n",
            "  72  73  74  75  76  77  78  79  80  81  82  83  84  85  86  87  88  89\n",
            "  90  91  92  93  94  95  96  97  98  99 100 101 102 103 104 105 106 107\n",
            " 108 109 110 111 112 113 114 115 116 117 118 119 120 121 122 123 124 125\n",
            " 126 127 128 129 130 131 132 133 134 135 136 137 138 139 140 141 142 143\n",
            " 144 145 146 147 148 149 150 151 152 153 154 155 156 157 158 159 160 161\n",
            " 162 163 164 165 166 167 168 169 170 171 172 173 174 175 176 177 178 179\n",
            " 180 181 182 183 184 185 186 187 188 189 190 191 192 193 194 195 196 197\n",
            " 198 199 200 201 202 203 204 205 206 207 208 209 210 211 212 213 214 215\n",
            " 216 217 218 219 220 221 222 223 224 225 226 227 228 229 230 231 232 233\n",
            " 234 235 236 237 238 239 240 241 242 243 244 245 246 247 248 249 250 251\n",
            " 252 253 254 255 256 257 258 259 260 261 262 263 264 265 266 267 268 269\n",
            " 270 271 272 273 274 275 276 277 278 279 280 281 282 283 284 285 286 287\n",
            " 288 289 290 291 292 293 294 295 296 297 298 299 300 301 302 303 304 305\n",
            " 306 307 308 309 310 311 312 313 314 315 316 317 318 319 320 321 322 323\n",
            " 324 325 326 327 328 329 330 331 332 333 334 335 336 337 338 339 340 341\n",
            " 342 343 344 345 346 347 348 349 350 351 352 353 354 355 356 357 358 359\n",
            " 360 361 362 363 364 365 418 419 420 421 422 423 424 425 426 427 428 429\n",
            " 430 431 432 433 434 435 436 437 438 439 440 441 442 443 444 445 446 447\n",
            " 448 449 450 451 452 453 454 455 456 457 458 459 460 461 462 463 464 465\n",
            " 466 467 468 469 470 471 472 473 474 475 476 477 478 479 480 481 482 483\n",
            " 484 485 486 487 488 489 490 491 492 493 494 495 496 497 498 499 500 501\n",
            " 502 503 504 505 506 507 508 509 510 511 512 513 514 515 516 517 518 519\n",
            " 520 521]\n",
            "Testing index : [366 367 368 369 370 371 372 373 374 375 376 377 378 379 380 381 382 383\n",
            " 384 385 386 387 388 389 390 391 392 393 394 395 396 397 398 399 400 401\n",
            " 402 403 404 405 406 407 408 409 410 411 412 413 414 415 416 417]\n",
            "Training index : [  0   1   2   3   4   5   6   7   8   9  10  11  12  13  14  15  16  17\n",
            "  18  19  20  21  22  23  24  25  26  27  28  29  30  31  32  33  34  35\n",
            "  36  37  38  39  40  41  42  43  44  45  46  47  48  49  50  51  52  53\n",
            "  54  55  56  57  58  59  60  61  62  63  64  65  66  67  68  69  70  71\n",
            "  72  73  74  75  76  77  78  79  80  81  82  83  84  85  86  87  88  89\n",
            "  90  91  92  93  94  95  96  97  98  99 100 101 102 103 104 105 106 107\n",
            " 108 109 110 111 112 113 114 115 116 117 118 119 120 121 122 123 124 125\n",
            " 126 127 128 129 130 131 132 133 134 135 136 137 138 139 140 141 142 143\n",
            " 144 145 146 147 148 149 150 151 152 153 154 155 156 157 158 159 160 161\n",
            " 162 163 164 165 166 167 168 169 170 171 172 173 174 175 176 177 178 179\n",
            " 180 181 182 183 184 185 186 187 188 189 190 191 192 193 194 195 196 197\n",
            " 198 199 200 201 202 203 204 205 206 207 208 209 210 211 212 213 214 215\n",
            " 216 217 218 219 220 221 222 223 224 225 226 227 228 229 230 231 232 233\n",
            " 234 235 236 237 238 239 240 241 242 243 244 245 246 247 248 249 250 251\n",
            " 252 253 254 255 256 257 258 259 260 261 262 263 264 265 266 267 268 269\n",
            " 270 271 272 273 274 275 276 277 278 279 280 281 282 283 284 285 286 287\n",
            " 288 289 290 291 292 293 294 295 296 297 298 299 300 301 302 303 304 305\n",
            " 306 307 308 309 310 311 312 313 314 315 316 317 318 319 320 321 322 323\n",
            " 324 325 326 327 328 329 330 331 332 333 334 335 336 337 338 339 340 341\n",
            " 342 343 344 345 346 347 348 349 350 351 352 353 354 355 356 357 358 359\n",
            " 360 361 362 363 364 365 366 367 368 369 370 371 372 373 374 375 376 377\n",
            " 378 379 380 381 382 383 384 385 386 387 388 389 390 391 392 393 394 395\n",
            " 396 397 398 399 400 401 402 403 404 405 406 407 408 409 410 411 412 413\n",
            " 414 415 416 417 470 471 472 473 474 475 476 477 478 479 480 481 482 483\n",
            " 484 485 486 487 488 489 490 491 492 493 494 495 496 497 498 499 500 501\n",
            " 502 503 504 505 506 507 508 509 510 511 512 513 514 515 516 517 518 519\n",
            " 520 521]\n",
            "Testing index : [418 419 420 421 422 423 424 425 426 427 428 429 430 431 432 433 434 435\n",
            " 436 437 438 439 440 441 442 443 444 445 446 447 448 449 450 451 452 453\n",
            " 454 455 456 457 458 459 460 461 462 463 464 465 466 467 468 469]\n",
            "Training index : [  0   1   2   3   4   5   6   7   8   9  10  11  12  13  14  15  16  17\n",
            "  18  19  20  21  22  23  24  25  26  27  28  29  30  31  32  33  34  35\n",
            "  36  37  38  39  40  41  42  43  44  45  46  47  48  49  50  51  52  53\n",
            "  54  55  56  57  58  59  60  61  62  63  64  65  66  67  68  69  70  71\n",
            "  72  73  74  75  76  77  78  79  80  81  82  83  84  85  86  87  88  89\n",
            "  90  91  92  93  94  95  96  97  98  99 100 101 102 103 104 105 106 107\n",
            " 108 109 110 111 112 113 114 115 116 117 118 119 120 121 122 123 124 125\n",
            " 126 127 128 129 130 131 132 133 134 135 136 137 138 139 140 141 142 143\n",
            " 144 145 146 147 148 149 150 151 152 153 154 155 156 157 158 159 160 161\n",
            " 162 163 164 165 166 167 168 169 170 171 172 173 174 175 176 177 178 179\n",
            " 180 181 182 183 184 185 186 187 188 189 190 191 192 193 194 195 196 197\n",
            " 198 199 200 201 202 203 204 205 206 207 208 209 210 211 212 213 214 215\n",
            " 216 217 218 219 220 221 222 223 224 225 226 227 228 229 230 231 232 233\n",
            " 234 235 236 237 238 239 240 241 242 243 244 245 246 247 248 249 250 251\n",
            " 252 253 254 255 256 257 258 259 260 261 262 263 264 265 266 267 268 269\n",
            " 270 271 272 273 274 275 276 277 278 279 280 281 282 283 284 285 286 287\n",
            " 288 289 290 291 292 293 294 295 296 297 298 299 300 301 302 303 304 305\n",
            " 306 307 308 309 310 311 312 313 314 315 316 317 318 319 320 321 322 323\n",
            " 324 325 326 327 328 329 330 331 332 333 334 335 336 337 338 339 340 341\n",
            " 342 343 344 345 346 347 348 349 350 351 352 353 354 355 356 357 358 359\n",
            " 360 361 362 363 364 365 366 367 368 369 370 371 372 373 374 375 376 377\n",
            " 378 379 380 381 382 383 384 385 386 387 388 389 390 391 392 393 394 395\n",
            " 396 397 398 399 400 401 402 403 404 405 406 407 408 409 410 411 412 413\n",
            " 414 415 416 417 418 419 420 421 422 423 424 425 426 427 428 429 430 431\n",
            " 432 433 434 435 436 437 438 439 440 441 442 443 444 445 446 447 448 449\n",
            " 450 451 452 453 454 455 456 457 458 459 460 461 462 463 464 465 466 467\n",
            " 468 469]\n",
            "Testing index : [470 471 472 473 474 475 476 477 478 479 480 481 482 483 484 485 486 487\n",
            " 488 489 490 491 492 493 494 495 496 497 498 499 500 501 502 503 504 505\n",
            " 506 507 508 509 510 511 512 513 514 515 516 517 518 519 520 521]\n"
          ]
        }
      ],
      "source": [
        "from sklearn.model_selection import KFold\n",
        "kfold_validation=KFold(10)\n",
        "for train_index,test_index in kfold_validation.split(X,y):\n",
        "    print('Training index :',train_index)\n",
        "    print('Testing index :',test_index)"
      ]
    },
    {
      "cell_type": "code",
      "execution_count": 72,
      "metadata": {
        "id": "UIbBjkNh0R6N"
      },
      "outputs": [],
      "source": [
        "from sklearn.model_selection import cross_val_score\n",
        "cv_score=cross_val_score(model,X,y,cv=kfold_validation)"
      ]
    },
    {
      "cell_type": "code",
      "execution_count": 73,
      "metadata": {
        "colab": {
          "base_uri": "https://localhost:8080/"
        },
        "id": "0zwH1gfy0R6O",
        "outputId": "45b48050-01e3-428d-b721-01b78dc9ee3c"
      },
      "outputs": [
        {
          "output_type": "stream",
          "name": "stdout",
          "text": [
            "Training index : [ 45  46  49  54  55  56  57  58  60  62  63  64  65  66  67  68  69  70\n",
            "  71  72  73  74  75  76  77  78  79  80  81  82  83  84  85  86  87  88\n",
            "  89  90  91  92  93  94  95  96  97  98  99 100 101 102 103 104 105 106\n",
            " 107 108 109 110 111 112 113 114 115 116 117 118 119 120 121 122 123 124\n",
            " 125 126 127 128 129 130 131 132 133 134 135 136 137 138 139 140 141 142\n",
            " 143 144 145 146 147 148 149 150 151 152 153 154 155 156 157 158 159 160\n",
            " 161 162 163 164 165 166 167 168 169 170 171 172 173 174 175 176 177 178\n",
            " 179 180 181 182 183 184 185 186 187 188 189 190 191 192 193 194 195 196\n",
            " 197 198 199 200 201 202 203 204 205 206 207 208 209 210 211 212 213 214\n",
            " 215 216 217 218 219 220 221 222 223 224 225 226 227 228 229 230 231 232\n",
            " 233 234 235 236 237 238 239 240 241 242 243 244 245 246 247 248 249 250\n",
            " 251 252 253 254 255 256 257 258 259 260 261 262 263 264 265 266 267 268\n",
            " 269 270 271 272 273 274 275 276 277 278 279 280 281 282 283 284 285 286\n",
            " 287 288 289 290 291 292 293 294 295 296 297 298 299 300 301 302 303 304\n",
            " 305 306 307 308 309 310 311 312 313 314 315 316 317 318 319 320 321 322\n",
            " 323 324 325 326 327 328 329 330 331 332 333 334 335 336 337 338 339 340\n",
            " 341 342 343 344 345 346 347 348 349 350 351 352 353 354 355 356 357 358\n",
            " 359 360 361 362 363 364 365 366 367 368 369 370 371 372 373 374 375 376\n",
            " 377 378 379 380 381 382 383 384 385 386 387 388 389 390 391 392 393 394\n",
            " 395 396 397 398 399 400 401 402 403 404 405 406 407 408 409 410 411 412\n",
            " 413 414 415 416 417 418 419 420 421 422 423 424 425 426 427 428 429 430\n",
            " 431 432 433 434 435 436 437 438 439 440 441 442 443 444 445 446 447 448\n",
            " 449 450 451 452 453 454 455 456 457 458 459 460 461 462 463 464 465 466\n",
            " 467 468 469 470 471 472 473 474 475 476 477 478 479 480 481 482 483 484\n",
            " 485 486 487 488 489 490 491 492 493 494 495 496 497 498 499 500 501 502\n",
            " 503 504 505 506 507 508 509 510 511 512 513 514 515 516 517 518 519 520\n",
            " 521]\n",
            "Testing index : [ 0  1  2  3  4  5  6  7  8  9 10 11 12 13 14 15 16 17 18 19 20 21 22 23\n",
            " 24 25 26 27 28 29 30 31 32 33 34 35 36 37 38 39 40 41 42 43 44 47 48 50\n",
            " 51 52 53 59 61]\n",
            "Training index : [  0   1   2   3   4   5   6   7   8   9  10  11  12  13  14  15  16  17\n",
            "  18  19  20  21  22  23  24  25  26  27  28  29  30  31  32  33  34  35\n",
            "  36  37  38  39  40  41  42  43  44  47  48  50  51  52  53  59  61  86\n",
            "  96  97 101 106 111 112 113 114 115 116 117 118 119 120 121 122 123 124\n",
            " 125 126 127 128 129 130 131 132 133 134 135 136 137 138 139 140 141 142\n",
            " 143 144 145 146 147 148 149 150 151 152 153 154 155 156 157 158 159 160\n",
            " 161 162 163 164 165 166 167 168 169 170 171 172 173 174 175 176 177 178\n",
            " 179 180 181 182 183 184 185 186 187 188 189 190 191 192 193 194 195 196\n",
            " 197 198 199 200 201 202 203 204 205 206 207 208 209 210 211 212 213 214\n",
            " 215 216 217 218 219 220 221 222 223 224 225 226 227 228 229 230 231 232\n",
            " 233 234 235 236 237 238 239 240 241 242 243 244 245 246 247 248 249 250\n",
            " 251 252 253 254 255 256 257 258 259 260 261 262 263 264 265 266 267 268\n",
            " 269 270 271 272 273 274 275 276 277 278 279 280 281 282 283 284 285 286\n",
            " 287 288 289 290 291 292 293 294 295 296 297 298 299 300 301 302 303 304\n",
            " 305 306 307 308 309 310 311 312 313 314 315 316 317 318 319 320 321 322\n",
            " 323 324 325 326 327 328 329 330 331 332 333 334 335 336 337 338 339 340\n",
            " 341 342 343 344 345 346 347 348 349 350 351 352 353 354 355 356 357 358\n",
            " 359 360 361 362 363 364 365 366 367 368 369 370 371 372 373 374 375 376\n",
            " 377 378 379 380 381 382 383 384 385 386 387 388 389 390 391 392 393 394\n",
            " 395 396 397 398 399 400 401 402 403 404 405 406 407 408 409 410 411 412\n",
            " 413 414 415 416 417 418 419 420 421 422 423 424 425 426 427 428 429 430\n",
            " 431 432 433 434 435 436 437 438 439 440 441 442 443 444 445 446 447 448\n",
            " 449 450 451 452 453 454 455 456 457 458 459 460 461 462 463 464 465 466\n",
            " 467 468 469 470 471 472 473 474 475 476 477 478 479 480 481 482 483 484\n",
            " 485 486 487 488 489 490 491 492 493 494 495 496 497 498 499 500 501 502\n",
            " 503 504 505 506 507 508 509 510 511 512 513 514 515 516 517 518 519 520\n",
            " 521]\n",
            "Testing index : [ 45  46  49  54  55  56  57  58  60  62  63  64  65  66  67  68  69  70\n",
            "  71  72  73  74  75  76  77  78  79  80  81  82  83  84  85  87  88  89\n",
            "  90  91  92  93  94  95  98  99 100 102 103 104 105 107 108 109 110]\n",
            "Training index : [  0   1   2   3   4   5   6   7   8   9  10  11  12  13  14  15  16  17\n",
            "  18  19  20  21  22  23  24  25  26  27  28  29  30  31  32  33  34  35\n",
            "  36  37  38  39  40  41  42  43  44  45  46  47  48  49  50  51  52  53\n",
            "  54  55  56  57  58  59  60  61  62  63  64  65  66  67  68  69  70  71\n",
            "  72  73  74  75  76  77  78  79  80  81  82  83  84  85  87  88  89  90\n",
            "  91  92  93  94  95  98  99 100 102 103 104 105 107 108 109 110 148 152\n",
            " 153 156 161 163 164 165 166 167 168 169 170 171 172 173 174 175 176 177\n",
            " 178 179 180 181 182 183 184 185 186 187 188 189 190 191 192 193 194 195\n",
            " 196 197 198 199 200 201 202 203 204 205 206 207 208 209 210 211 212 213\n",
            " 214 215 216 217 218 219 220 221 222 223 224 225 226 227 228 229 230 231\n",
            " 232 233 234 235 236 237 238 239 240 241 242 243 244 245 246 247 248 249\n",
            " 250 251 252 253 254 255 256 257 258 259 260 261 262 263 264 265 266 267\n",
            " 268 269 270 271 272 273 274 275 276 277 278 279 280 281 282 283 284 285\n",
            " 286 287 288 289 290 291 292 293 294 295 296 297 298 299 300 301 302 303\n",
            " 304 305 306 307 308 309 310 311 312 313 314 315 316 317 318 319 320 321\n",
            " 322 323 324 325 326 327 328 329 330 331 332 333 334 335 336 337 338 339\n",
            " 340 341 342 343 344 345 346 347 348 349 350 351 352 353 354 355 356 357\n",
            " 358 359 360 361 362 363 364 365 366 367 368 369 370 371 372 373 374 375\n",
            " 376 377 378 379 380 381 382 383 384 385 386 387 388 389 390 391 392 393\n",
            " 394 395 396 397 398 399 400 401 402 403 404 405 406 407 408 409 410 411\n",
            " 412 413 414 415 416 417 418 419 420 421 422 423 424 425 426 427 428 429\n",
            " 430 431 432 433 434 435 436 437 438 439 440 441 442 443 444 445 446 447\n",
            " 448 449 450 451 452 453 454 455 456 457 458 459 460 461 462 463 464 465\n",
            " 466 467 468 469 470 471 472 473 474 475 476 477 478 479 480 481 482 483\n",
            " 484 485 486 487 488 489 490 491 492 493 494 495 496 497 498 499 500 501\n",
            " 502 503 504 505 506 507 508 509 510 511 512 513 514 515 516 517 518 519\n",
            " 520 521]\n",
            "Testing index : [ 86  96  97 101 106 111 112 113 114 115 116 117 118 119 120 121 122 123\n",
            " 124 125 126 127 128 129 130 131 132 133 134 135 136 137 138 139 140 141\n",
            " 142 143 144 145 146 147 149 150 151 154 155 157 158 159 160 162]\n",
            "Training index : [  0   1   2   3   4   5   6   7   8   9  10  11  12  13  14  15  16  17\n",
            "  18  19  20  21  22  23  24  25  26  27  28  29  30  31  32  33  34  35\n",
            "  36  37  38  39  40  41  42  43  44  45  46  47  48  49  50  51  52  53\n",
            "  54  55  56  57  58  59  60  61  62  63  64  65  66  67  68  69  70  71\n",
            "  72  73  74  75  76  77  78  79  80  81  82  83  84  85  86  87  88  89\n",
            "  90  91  92  93  94  95  96  97  98  99 100 101 102 103 104 105 106 107\n",
            " 108 109 110 111 112 113 114 115 116 117 118 119 120 121 122 123 124 125\n",
            " 126 127 128 129 130 131 132 133 134 135 136 137 138 139 140 141 142 143\n",
            " 144 145 146 147 149 150 151 154 155 157 158 159 160 162 210 211 212 213\n",
            " 214 215 216 217 218 219 220 221 222 223 224 225 226 227 228 229 230 231\n",
            " 232 233 234 235 236 237 238 239 240 241 242 243 244 245 246 247 248 249\n",
            " 250 251 252 253 254 255 256 257 258 259 260 261 262 263 264 265 266 267\n",
            " 268 269 270 271 272 273 274 275 276 277 278 279 280 281 282 283 284 285\n",
            " 286 287 288 289 290 291 292 293 294 295 296 297 298 299 300 301 302 303\n",
            " 304 305 306 307 308 309 310 311 312 313 314 315 316 317 318 319 320 321\n",
            " 322 323 324 325 326 327 328 329 330 331 332 333 334 335 336 337 338 339\n",
            " 340 341 342 343 344 345 346 347 348 349 350 351 352 353 354 355 356 357\n",
            " 358 359 360 361 362 363 364 365 366 367 368 369 370 371 372 373 374 375\n",
            " 376 377 378 379 380 381 382 383 384 385 386 387 388 389 390 391 392 393\n",
            " 394 395 396 397 398 399 400 401 402 403 404 405 406 407 408 409 410 411\n",
            " 412 413 414 415 416 417 418 419 420 421 422 423 424 425 426 427 428 429\n",
            " 430 431 432 433 434 435 436 437 438 439 440 441 442 443 444 445 446 447\n",
            " 448 449 450 451 452 453 454 455 456 457 458 459 460 461 462 463 464 465\n",
            " 466 467 468 469 470 471 472 473 474 475 476 477 478 479 480 481 482 483\n",
            " 484 485 486 487 488 489 490 491 492 493 494 495 496 497 498 499 500 501\n",
            " 502 503 504 505 506 507 508 509 510 511 512 513 514 515 516 517 518 519\n",
            " 520 521]\n",
            "Testing index : [148 152 153 156 161 163 164 165 166 167 168 169 170 171 172 173 174 175\n",
            " 176 177 178 179 180 181 182 183 184 185 186 187 188 189 190 191 192 193\n",
            " 194 195 196 197 198 199 200 201 202 203 204 205 206 207 208 209]\n",
            "Training index : [  0   1   2   3   4   5   6   7   8   9  10  11  12  13  14  15  16  17\n",
            "  18  19  20  21  22  23  24  25  26  27  28  29  30  31  32  33  34  35\n",
            "  36  37  38  39  40  41  42  43  44  45  46  47  48  49  50  51  52  53\n",
            "  54  55  56  57  58  59  60  61  62  63  64  65  66  67  68  69  70  71\n",
            "  72  73  74  75  76  77  78  79  80  81  82  83  84  85  86  87  88  89\n",
            "  90  91  92  93  94  95  96  97  98  99 100 101 102 103 104 105 106 107\n",
            " 108 109 110 111 112 113 114 115 116 117 118 119 120 121 122 123 124 125\n",
            " 126 127 128 129 130 131 132 133 134 135 136 137 138 139 140 141 142 143\n",
            " 144 145 146 147 148 149 150 151 152 153 154 155 156 157 158 159 160 161\n",
            " 162 163 164 165 166 167 168 169 170 171 172 173 174 175 176 177 178 179\n",
            " 180 181 182 183 184 185 186 187 188 189 190 191 192 193 194 195 196 197\n",
            " 198 199 200 201 202 203 204 205 206 207 208 209 261 263 264 265 266 267\n",
            " 268 269 270 271 272 273 274 275 276 277 278 279 280 281 282 283 284 285\n",
            " 286 287 288 289 290 291 292 293 294 295 296 297 298 299 300 301 302 303\n",
            " 304 305 306 307 308 309 310 311 312 313 314 315 316 317 318 319 320 321\n",
            " 322 323 324 325 326 327 328 329 330 331 332 333 334 335 336 337 338 339\n",
            " 340 341 342 343 344 345 346 347 348 349 350 351 352 353 354 355 356 357\n",
            " 358 359 360 361 362 363 364 365 366 367 368 369 370 371 372 373 374 375\n",
            " 376 377 378 379 380 381 382 383 384 385 386 387 388 389 390 391 392 393\n",
            " 394 395 396 397 398 399 400 401 402 403 404 405 406 407 408 409 410 411\n",
            " 412 413 414 415 416 417 418 419 420 421 422 423 424 425 426 427 428 429\n",
            " 430 431 432 433 434 435 436 437 438 439 440 441 442 443 444 445 446 447\n",
            " 448 449 450 451 452 453 454 455 456 457 458 459 460 461 462 463 464 465\n",
            " 466 467 468 469 470 471 472 473 474 475 476 477 478 479 480 481 482 483\n",
            " 484 485 486 487 488 489 490 491 492 493 494 495 496 497 498 499 500 501\n",
            " 502 503 504 505 506 507 508 509 510 511 512 513 514 515 516 517 518 519\n",
            " 520 521]\n",
            "Testing index : [210 211 212 213 214 215 216 217 218 219 220 221 222 223 224 225 226 227\n",
            " 228 229 230 231 232 233 234 235 236 237 238 239 240 241 242 243 244 245\n",
            " 246 247 248 249 250 251 252 253 254 255 256 257 258 259 260 262]\n",
            "Training index : [  0   1   2   3   4   5   6   7   8   9  10  11  12  13  14  15  16  17\n",
            "  18  19  20  21  22  23  24  25  26  27  28  29  30  31  32  33  34  35\n",
            "  36  37  38  39  40  41  42  43  44  45  46  47  48  49  50  51  52  53\n",
            "  54  55  56  57  58  59  60  61  62  63  64  65  66  67  68  69  70  71\n",
            "  72  73  74  75  76  77  78  79  80  81  82  83  84  85  86  87  88  89\n",
            "  90  91  92  93  94  95  96  97  98  99 100 101 102 103 104 105 106 107\n",
            " 108 109 110 111 112 113 114 115 116 117 118 119 120 121 122 123 124 125\n",
            " 126 127 128 129 130 131 132 133 134 135 136 137 138 139 140 141 142 143\n",
            " 144 145 146 147 148 149 150 151 152 153 154 155 156 157 158 159 160 161\n",
            " 162 163 164 165 166 167 168 169 170 171 172 173 174 175 176 177 178 179\n",
            " 180 181 182 183 184 185 186 187 188 189 190 191 192 193 194 195 196 197\n",
            " 198 199 200 201 202 203 204 205 206 207 208 209 210 211 212 213 214 215\n",
            " 216 217 218 219 220 221 222 223 224 225 226 227 228 229 230 231 232 233\n",
            " 234 235 236 237 238 239 240 241 242 243 244 245 246 247 248 249 250 251\n",
            " 252 253 254 255 256 257 258 259 260 262 309 311 312 313 314 318 319 321\n",
            " 322 323 324 325 326 327 328 329 330 331 332 333 334 335 336 337 338 339\n",
            " 340 341 342 343 344 345 346 347 348 349 350 351 352 353 354 355 356 357\n",
            " 358 359 360 361 362 363 364 365 366 367 368 369 370 371 372 373 374 375\n",
            " 376 377 378 379 380 381 382 383 384 385 386 387 388 389 390 391 392 393\n",
            " 394 395 396 397 398 399 400 401 402 403 404 405 406 407 408 409 410 411\n",
            " 412 413 414 415 416 417 418 419 420 421 422 423 424 425 426 427 428 429\n",
            " 430 431 432 433 434 435 436 437 438 439 440 441 442 443 444 445 446 447\n",
            " 448 449 450 451 452 453 454 455 456 457 458 459 460 461 462 463 464 465\n",
            " 466 467 468 469 470 471 472 473 474 475 476 477 478 479 480 481 482 483\n",
            " 484 485 486 487 488 489 490 491 492 493 494 495 496 497 498 499 500 501\n",
            " 502 503 504 505 506 507 508 509 510 511 512 513 514 515 516 517 518 519\n",
            " 520 521]\n",
            "Testing index : [261 263 264 265 266 267 268 269 270 271 272 273 274 275 276 277 278 279\n",
            " 280 281 282 283 284 285 286 287 288 289 290 291 292 293 294 295 296 297\n",
            " 298 299 300 301 302 303 304 305 306 307 308 310 315 316 317 320]\n",
            "Training index : [  0   1   2   3   4   5   6   7   8   9  10  11  12  13  14  15  16  17\n",
            "  18  19  20  21  22  23  24  25  26  27  28  29  30  31  32  33  34  35\n",
            "  36  37  38  39  40  41  42  43  44  45  46  47  48  49  50  51  52  53\n",
            "  54  55  56  57  58  59  60  61  62  63  64  65  66  67  68  69  70  71\n",
            "  72  73  74  75  76  77  78  79  80  81  82  83  84  85  86  87  88  89\n",
            "  90  91  92  93  94  95  96  97  98  99 100 101 102 103 104 105 106 107\n",
            " 108 109 110 111 112 113 114 115 116 117 118 119 120 121 122 123 124 125\n",
            " 126 127 128 129 130 131 132 133 134 135 136 137 138 139 140 141 142 143\n",
            " 144 145 146 147 148 149 150 151 152 153 154 155 156 157 158 159 160 161\n",
            " 162 163 164 165 166 167 168 169 170 171 172 173 174 175 176 177 178 179\n",
            " 180 181 182 183 184 185 186 187 188 189 190 191 192 193 194 195 196 197\n",
            " 198 199 200 201 202 203 204 205 206 207 208 209 210 211 212 213 214 215\n",
            " 216 217 218 219 220 221 222 223 224 225 226 227 228 229 230 231 232 233\n",
            " 234 235 236 237 238 239 240 241 242 243 244 245 246 247 248 249 250 251\n",
            " 252 253 254 255 256 257 258 259 260 261 262 263 264 265 266 267 268 269\n",
            " 270 271 272 273 274 275 276 277 278 279 280 281 282 283 284 285 286 287\n",
            " 288 289 290 291 292 293 294 295 296 297 298 299 300 301 302 303 304 305\n",
            " 306 307 308 310 315 316 317 320 364 366 368 369 370 371 372 373 374 375\n",
            " 376 377 378 379 380 381 382 383 384 385 386 387 388 389 390 391 392 393\n",
            " 394 395 396 397 398 399 400 401 402 403 404 405 406 407 408 409 410 411\n",
            " 412 413 414 415 416 417 418 419 420 421 422 423 424 425 426 427 428 429\n",
            " 430 431 432 433 434 435 436 437 438 439 440 441 442 443 444 445 446 447\n",
            " 448 449 450 451 452 453 454 455 456 457 458 459 460 461 462 463 464 465\n",
            " 466 467 468 469 470 471 472 473 474 475 476 477 478 479 480 481 482 483\n",
            " 484 485 486 487 488 489 490 491 492 493 494 495 496 497 498 499 500 501\n",
            " 502 503 504 505 506 507 508 509 510 511 512 513 514 515 516 517 518 519\n",
            " 520 521]\n",
            "Testing index : [309 311 312 313 314 318 319 321 322 323 324 325 326 327 328 329 330 331\n",
            " 332 333 334 335 336 337 338 339 340 341 342 343 344 345 346 347 348 349\n",
            " 350 351 352 353 354 355 356 357 358 359 360 361 362 363 365 367]\n",
            "Training index : [  0   1   2   3   4   5   6   7   8   9  10  11  12  13  14  15  16  17\n",
            "  18  19  20  21  22  23  24  25  26  27  28  29  30  31  32  33  34  35\n",
            "  36  37  38  39  40  41  42  43  44  45  46  47  48  49  50  51  52  53\n",
            "  54  55  56  57  58  59  60  61  62  63  64  65  66  67  68  69  70  71\n",
            "  72  73  74  75  76  77  78  79  80  81  82  83  84  85  86  87  88  89\n",
            "  90  91  92  93  94  95  96  97  98  99 100 101 102 103 104 105 106 107\n",
            " 108 109 110 111 112 113 114 115 116 117 118 119 120 121 122 123 124 125\n",
            " 126 127 128 129 130 131 132 133 134 135 136 137 138 139 140 141 142 143\n",
            " 144 145 146 147 148 149 150 151 152 153 154 155 156 157 158 159 160 161\n",
            " 162 163 164 165 166 167 168 169 170 171 172 173 174 175 176 177 178 179\n",
            " 180 181 182 183 184 185 186 187 188 189 190 191 192 193 194 195 196 197\n",
            " 198 199 200 201 202 203 204 205 206 207 208 209 210 211 212 213 214 215\n",
            " 216 217 218 219 220 221 222 223 224 225 226 227 228 229 230 231 232 233\n",
            " 234 235 236 237 238 239 240 241 242 243 244 245 246 247 248 249 250 251\n",
            " 252 253 254 255 256 257 258 259 260 261 262 263 264 265 266 267 268 269\n",
            " 270 271 272 273 274 275 276 277 278 279 280 281 282 283 284 285 286 287\n",
            " 288 289 290 291 292 293 294 295 296 297 298 299 300 301 302 303 304 305\n",
            " 306 307 308 309 310 311 312 313 314 315 316 317 318 319 320 321 322 323\n",
            " 324 325 326 327 328 329 330 331 332 333 334 335 336 337 338 339 340 341\n",
            " 342 343 344 345 346 347 348 349 350 351 352 353 354 355 356 357 358 359\n",
            " 360 361 362 363 365 367 416 417 419 421 422 423 424 425 426 427 428 429\n",
            " 430 431 432 433 434 435 436 437 438 439 440 441 442 443 444 445 446 447\n",
            " 448 449 450 451 452 453 454 455 456 457 458 459 460 461 462 463 464 465\n",
            " 466 467 468 469 470 471 472 473 474 475 476 477 478 479 480 481 482 483\n",
            " 484 485 486 487 488 489 490 491 492 493 494 495 496 497 498 499 500 501\n",
            " 502 503 504 505 506 507 508 509 510 511 512 513 514 515 516 517 518 519\n",
            " 520 521]\n",
            "Testing index : [364 366 368 369 370 371 372 373 374 375 376 377 378 379 380 381 382 383\n",
            " 384 385 386 387 388 389 390 391 392 393 394 395 396 397 398 399 400 401\n",
            " 402 403 404 405 406 407 408 409 410 411 412 413 414 415 418 420]\n",
            "Training index : [  0   1   2   3   4   5   6   7   8   9  10  11  12  13  14  15  16  17\n",
            "  18  19  20  21  22  23  24  25  26  27  28  29  30  31  32  33  34  35\n",
            "  36  37  38  39  40  41  42  43  44  45  46  47  48  49  50  51  52  53\n",
            "  54  55  56  57  58  59  60  61  62  63  64  65  66  67  68  69  70  71\n",
            "  72  73  74  75  76  77  78  79  80  81  82  83  84  85  86  87  88  89\n",
            "  90  91  92  93  94  95  96  97  98  99 100 101 102 103 104 105 106 107\n",
            " 108 109 110 111 112 113 114 115 116 117 118 119 120 121 122 123 124 125\n",
            " 126 127 128 129 130 131 132 133 134 135 136 137 138 139 140 141 142 143\n",
            " 144 145 146 147 148 149 150 151 152 153 154 155 156 157 158 159 160 161\n",
            " 162 163 164 165 166 167 168 169 170 171 172 173 174 175 176 177 178 179\n",
            " 180 181 182 183 184 185 186 187 188 189 190 191 192 193 194 195 196 197\n",
            " 198 199 200 201 202 203 204 205 206 207 208 209 210 211 212 213 214 215\n",
            " 216 217 218 219 220 221 222 223 224 225 226 227 228 229 230 231 232 233\n",
            " 234 235 236 237 238 239 240 241 242 243 244 245 246 247 248 249 250 251\n",
            " 252 253 254 255 256 257 258 259 260 261 262 263 264 265 266 267 268 269\n",
            " 270 271 272 273 274 275 276 277 278 279 280 281 282 283 284 285 286 287\n",
            " 288 289 290 291 292 293 294 295 296 297 298 299 300 301 302 303 304 305\n",
            " 306 307 308 309 310 311 312 313 314 315 316 317 318 319 320 321 322 323\n",
            " 324 325 326 327 328 329 330 331 332 333 334 335 336 337 338 339 340 341\n",
            " 342 343 344 345 346 347 348 349 350 351 352 353 354 355 356 357 358 359\n",
            " 360 361 362 363 364 365 366 367 368 369 370 371 372 373 374 375 376 377\n",
            " 378 379 380 381 382 383 384 385 386 387 388 389 390 391 392 393 394 395\n",
            " 396 397 398 399 400 401 402 403 404 405 406 407 408 409 410 411 412 413\n",
            " 414 415 418 420 468 470 471 473 474 475 476 477 478 479 480 481 482 483\n",
            " 484 485 486 487 488 489 490 491 492 493 494 495 496 497 498 499 500 501\n",
            " 502 503 504 505 506 507 508 509 510 511 512 513 514 515 516 517 518 519\n",
            " 520 521]\n",
            "Testing index : [416 417 419 421 422 423 424 425 426 427 428 429 430 431 432 433 434 435\n",
            " 436 437 438 439 440 441 442 443 444 445 446 447 448 449 450 451 452 453\n",
            " 454 455 456 457 458 459 460 461 462 463 464 465 466 467 469 472]\n",
            "Training index : [  0   1   2   3   4   5   6   7   8   9  10  11  12  13  14  15  16  17\n",
            "  18  19  20  21  22  23  24  25  26  27  28  29  30  31  32  33  34  35\n",
            "  36  37  38  39  40  41  42  43  44  45  46  47  48  49  50  51  52  53\n",
            "  54  55  56  57  58  59  60  61  62  63  64  65  66  67  68  69  70  71\n",
            "  72  73  74  75  76  77  78  79  80  81  82  83  84  85  86  87  88  89\n",
            "  90  91  92  93  94  95  96  97  98  99 100 101 102 103 104 105 106 107\n",
            " 108 109 110 111 112 113 114 115 116 117 118 119 120 121 122 123 124 125\n",
            " 126 127 128 129 130 131 132 133 134 135 136 137 138 139 140 141 142 143\n",
            " 144 145 146 147 148 149 150 151 152 153 154 155 156 157 158 159 160 161\n",
            " 162 163 164 165 166 167 168 169 170 171 172 173 174 175 176 177 178 179\n",
            " 180 181 182 183 184 185 186 187 188 189 190 191 192 193 194 195 196 197\n",
            " 198 199 200 201 202 203 204 205 206 207 208 209 210 211 212 213 214 215\n",
            " 216 217 218 219 220 221 222 223 224 225 226 227 228 229 230 231 232 233\n",
            " 234 235 236 237 238 239 240 241 242 243 244 245 246 247 248 249 250 251\n",
            " 252 253 254 255 256 257 258 259 260 261 262 263 264 265 266 267 268 269\n",
            " 270 271 272 273 274 275 276 277 278 279 280 281 282 283 284 285 286 287\n",
            " 288 289 290 291 292 293 294 295 296 297 298 299 300 301 302 303 304 305\n",
            " 306 307 308 309 310 311 312 313 314 315 316 317 318 319 320 321 322 323\n",
            " 324 325 326 327 328 329 330 331 332 333 334 335 336 337 338 339 340 341\n",
            " 342 343 344 345 346 347 348 349 350 351 352 353 354 355 356 357 358 359\n",
            " 360 361 362 363 364 365 366 367 368 369 370 371 372 373 374 375 376 377\n",
            " 378 379 380 381 382 383 384 385 386 387 388 389 390 391 392 393 394 395\n",
            " 396 397 398 399 400 401 402 403 404 405 406 407 408 409 410 411 412 413\n",
            " 414 415 416 417 418 419 420 421 422 423 424 425 426 427 428 429 430 431\n",
            " 432 433 434 435 436 437 438 439 440 441 442 443 444 445 446 447 448 449\n",
            " 450 451 452 453 454 455 456 457 458 459 460 461 462 463 464 465 466 467\n",
            " 469 472]\n",
            "Testing index : [468 470 471 473 474 475 476 477 478 479 480 481 482 483 484 485 486 487\n",
            " 488 489 490 491 492 493 494 495 496 497 498 499 500 501 502 503 504 505\n",
            " 506 507 508 509 510 511 512 513 514 515 516 517 518 519 520 521]\n"
          ]
        }
      ],
      "source": [
        "from sklearn.model_selection import StratifiedKFold\n",
        "skfold_validator=StratifiedKFold(n_splits=10)\n",
        "for train_index,test_index in skfold_validator.split(X,y):\n",
        "    print('Training index :',train_index)\n",
        "    print('Testing index :',test_index)"
      ]
    },
    {
      "cell_type": "code",
      "execution_count": 74,
      "metadata": {
        "id": "r2gPsCKw0R6Q"
      },
      "outputs": [],
      "source": [
        "skcv_score=cross_val_score(model,X,y,cv=skfold_validator)"
      ]
    },
    {
      "cell_type": "code",
      "execution_count": 75,
      "metadata": {
        "colab": {
          "base_uri": "https://localhost:8080/"
        },
        "id": "BM1D2fvP0R6Q",
        "outputId": "89c77177-0e3a-433f-a228-532d05a07075"
      },
      "outputs": [
        {
          "output_type": "execute_result",
          "data": {
            "text/plain": [
              "array([0.50943396, 0.75471698, 0.75      , 0.73076923, 0.78846154,\n",
              "       0.80769231, 0.82692308, 0.76923077, 0.76923077, 0.78846154])"
            ]
          },
          "metadata": {},
          "execution_count": 75
        }
      ],
      "source": [
        "skcv_score"
      ]
    },
    {
      "cell_type": "code",
      "execution_count": 76,
      "metadata": {
        "colab": {
          "base_uri": "https://localhost:8080/"
        },
        "id": "QNxqdiyz0R6R",
        "outputId": "1fa73ea3-1eab-42f3-a1e1-149e59ba25c0"
      },
      "outputs": [
        {
          "output_type": "execute_result",
          "data": {
            "text/plain": [
              "0.7494920174165457"
            ]
          },
          "metadata": {},
          "execution_count": 76
        }
      ],
      "source": [
        "np.mean(skcv_score)"
      ]
    },
    {
      "cell_type": "code",
      "execution_count": 76,
      "metadata": {
        "id": "sR4hxuax0R6S"
      },
      "outputs": [],
      "source": []
    },
    {
      "cell_type": "code",
      "execution_count": 77,
      "metadata": {
        "id": "qIbvNC_J0R6T"
      },
      "outputs": [],
      "source": [
        "##modeling"
      ]
    },
    {
      "cell_type": "code",
      "execution_count": 78,
      "metadata": {
        "id": "PhViHevQ0R6U"
      },
      "outputs": [],
      "source": [
        "x_test=test_data\n",
        "predictions = model.predict(x_test)"
      ]
    },
    {
      "cell_type": "code",
      "execution_count": 79,
      "metadata": {
        "colab": {
          "base_uri": "https://localhost:8080/"
        },
        "id": "sycC08Wv0R6U",
        "outputId": "5ddfc0f8-d2e9-40c7-f22d-a06d00db9fe2"
      },
      "outputs": [
        {
          "output_type": "stream",
          "name": "stdout",
          "text": [
            "[1 1 1 1 0 1 1 0 1 1 1 1 1 1 0 1 1 1 0 0 1 1 1 1 1 1 0 1 1 0 1 1 1 1 1 1 1\n",
            " 0 1 1 1 1 1 1 1 1 0 1 1 0 0 1 0 1 1 1 1 0 1 1 0 0 1 0 1 1 1 1 0 1 0 1 1 0\n",
            " 0 0 1 1 1 0 0 0 1 0 1 1 1 0 0 1 0 1 1 0 0 1 1 1 1 1 1 1 1 0 0 0 0 1 1 1 1\n",
            " 0 1 1 1 1 0 1 1 1 1 0 1 1 1 0 1 0 1 1 1 1 1 1 0 0 1 1 0 1 0 1 0 1 1 1 0 0\n",
            " 1 0 1 1 0 1 0 0 1 1 1 1 1 1 1 1 1 1 1 1 0 0 1 0 1 0 1 1 1 1 1 1 1 1 1 1 1\n",
            " 0 1 1 1 1 1 0 1 1 1 1 1 1 1 1 1 1 1 0 1 1 1 1 0 0 1 1 1 0 1 0 1 0 1 1 1 0\n",
            " 1 1 1 1 0 1 1 1 1 0 1 1 0 1 0 1 0 1 1 1 0 0 1 1 1 0 1 1 1 1 1 1 1 1 1 0 0\n",
            " 0 1 1 1 1 1 1 0 1 1 0 1 1 1 1 1 0 1 1 1 1 1 0 1 1 0 0 1 1 0 1 1 1 1 1 1 1\n",
            " 1 1 1 1 1 0 1 1 1 0 1 0 1 1 0 1 1 1 1 1 1 0 1 1 1 1 1 1]\n"
          ]
        }
      ],
      "source": [
        "print(predictions)\n"
      ]
    },
    {
      "cell_type": "code",
      "execution_count": 80,
      "metadata": {
        "colab": {
          "base_uri": "https://localhost:8080/"
        },
        "id": "IY27Uv3_0R6V",
        "outputId": "6119c390-7ce4-4cb6-d31f-68de01127671"
      },
      "outputs": [
        {
          "output_type": "execute_result",
          "data": {
            "text/plain": [
              "(324, 12)"
            ]
          },
          "metadata": {},
          "execution_count": 80
        }
      ],
      "source": [
        "x_test.shape"
      ]
    },
    {
      "cell_type": "code",
      "execution_count": 81,
      "metadata": {
        "id": "JaMMzEmn0R6W"
      },
      "outputs": [],
      "source": [
        "submission = pd.DataFrame({'Loan_ID': test_data['Loan_ID'], 'Loan_Status': predictions})\n",
        "submission.to_csv('submission.csv', index=False)"
      ]
    },
    {
      "cell_type": "code",
      "execution_count": 82,
      "metadata": {
        "colab": {
          "base_uri": "https://localhost:8080/",
          "height": 424
        },
        "id": "WvZo1dKt0R6W",
        "outputId": "b20dd57b-eb9a-4d4e-eefc-beb32982b666"
      },
      "outputs": [
        {
          "output_type": "execute_result",
          "data": {
            "text/plain": [
              "     Loan_ID  Loan_Status\n",
              "0          0            1\n",
              "1          1            1\n",
              "2          2            1\n",
              "3          3            1\n",
              "4          4            0\n",
              "..       ...          ...\n",
              "361      361            1\n",
              "362      362            1\n",
              "363      363            1\n",
              "364      364            1\n",
              "365      365            1\n",
              "\n",
              "[324 rows x 2 columns]"
            ],
            "text/html": [
              "\n",
              "  <div id=\"df-5f4c82d0-fe6c-4b9f-bb17-6c771baa7dbe\">\n",
              "    <div class=\"colab-df-container\">\n",
              "      <div>\n",
              "<style scoped>\n",
              "    .dataframe tbody tr th:only-of-type {\n",
              "        vertical-align: middle;\n",
              "    }\n",
              "\n",
              "    .dataframe tbody tr th {\n",
              "        vertical-align: top;\n",
              "    }\n",
              "\n",
              "    .dataframe thead th {\n",
              "        text-align: right;\n",
              "    }\n",
              "</style>\n",
              "<table border=\"1\" class=\"dataframe\">\n",
              "  <thead>\n",
              "    <tr style=\"text-align: right;\">\n",
              "      <th></th>\n",
              "      <th>Loan_ID</th>\n",
              "      <th>Loan_Status</th>\n",
              "    </tr>\n",
              "  </thead>\n",
              "  <tbody>\n",
              "    <tr>\n",
              "      <th>0</th>\n",
              "      <td>0</td>\n",
              "      <td>1</td>\n",
              "    </tr>\n",
              "    <tr>\n",
              "      <th>1</th>\n",
              "      <td>1</td>\n",
              "      <td>1</td>\n",
              "    </tr>\n",
              "    <tr>\n",
              "      <th>2</th>\n",
              "      <td>2</td>\n",
              "      <td>1</td>\n",
              "    </tr>\n",
              "    <tr>\n",
              "      <th>3</th>\n",
              "      <td>3</td>\n",
              "      <td>1</td>\n",
              "    </tr>\n",
              "    <tr>\n",
              "      <th>4</th>\n",
              "      <td>4</td>\n",
              "      <td>0</td>\n",
              "    </tr>\n",
              "    <tr>\n",
              "      <th>...</th>\n",
              "      <td>...</td>\n",
              "      <td>...</td>\n",
              "    </tr>\n",
              "    <tr>\n",
              "      <th>361</th>\n",
              "      <td>361</td>\n",
              "      <td>1</td>\n",
              "    </tr>\n",
              "    <tr>\n",
              "      <th>362</th>\n",
              "      <td>362</td>\n",
              "      <td>1</td>\n",
              "    </tr>\n",
              "    <tr>\n",
              "      <th>363</th>\n",
              "      <td>363</td>\n",
              "      <td>1</td>\n",
              "    </tr>\n",
              "    <tr>\n",
              "      <th>364</th>\n",
              "      <td>364</td>\n",
              "      <td>1</td>\n",
              "    </tr>\n",
              "    <tr>\n",
              "      <th>365</th>\n",
              "      <td>365</td>\n",
              "      <td>1</td>\n",
              "    </tr>\n",
              "  </tbody>\n",
              "</table>\n",
              "<p>324 rows × 2 columns</p>\n",
              "</div>\n",
              "      <button class=\"colab-df-convert\" onclick=\"convertToInteractive('df-5f4c82d0-fe6c-4b9f-bb17-6c771baa7dbe')\"\n",
              "              title=\"Convert this dataframe to an interactive table.\"\n",
              "              style=\"display:none;\">\n",
              "        \n",
              "  <svg xmlns=\"http://www.w3.org/2000/svg\" height=\"24px\"viewBox=\"0 0 24 24\"\n",
              "       width=\"24px\">\n",
              "    <path d=\"M0 0h24v24H0V0z\" fill=\"none\"/>\n",
              "    <path d=\"M18.56 5.44l.94 2.06.94-2.06 2.06-.94-2.06-.94-.94-2.06-.94 2.06-2.06.94zm-11 1L8.5 8.5l.94-2.06 2.06-.94-2.06-.94L8.5 2.5l-.94 2.06-2.06.94zm10 10l.94 2.06.94-2.06 2.06-.94-2.06-.94-.94-2.06-.94 2.06-2.06.94z\"/><path d=\"M17.41 7.96l-1.37-1.37c-.4-.4-.92-.59-1.43-.59-.52 0-1.04.2-1.43.59L10.3 9.45l-7.72 7.72c-.78.78-.78 2.05 0 2.83L4 21.41c.39.39.9.59 1.41.59.51 0 1.02-.2 1.41-.59l7.78-7.78 2.81-2.81c.8-.78.8-2.07 0-2.86zM5.41 20L4 18.59l7.72-7.72 1.47 1.35L5.41 20z\"/>\n",
              "  </svg>\n",
              "      </button>\n",
              "      \n",
              "  <style>\n",
              "    .colab-df-container {\n",
              "      display:flex;\n",
              "      flex-wrap:wrap;\n",
              "      gap: 12px;\n",
              "    }\n",
              "\n",
              "    .colab-df-convert {\n",
              "      background-color: #E8F0FE;\n",
              "      border: none;\n",
              "      border-radius: 50%;\n",
              "      cursor: pointer;\n",
              "      display: none;\n",
              "      fill: #1967D2;\n",
              "      height: 32px;\n",
              "      padding: 0 0 0 0;\n",
              "      width: 32px;\n",
              "    }\n",
              "\n",
              "    .colab-df-convert:hover {\n",
              "      background-color: #E2EBFA;\n",
              "      box-shadow: 0px 1px 2px rgba(60, 64, 67, 0.3), 0px 1px 3px 1px rgba(60, 64, 67, 0.15);\n",
              "      fill: #174EA6;\n",
              "    }\n",
              "\n",
              "    [theme=dark] .colab-df-convert {\n",
              "      background-color: #3B4455;\n",
              "      fill: #D2E3FC;\n",
              "    }\n",
              "\n",
              "    [theme=dark] .colab-df-convert:hover {\n",
              "      background-color: #434B5C;\n",
              "      box-shadow: 0px 1px 3px 1px rgba(0, 0, 0, 0.15);\n",
              "      filter: drop-shadow(0px 1px 2px rgba(0, 0, 0, 0.3));\n",
              "      fill: #FFFFFF;\n",
              "    }\n",
              "  </style>\n",
              "\n",
              "      <script>\n",
              "        const buttonEl =\n",
              "          document.querySelector('#df-5f4c82d0-fe6c-4b9f-bb17-6c771baa7dbe button.colab-df-convert');\n",
              "        buttonEl.style.display =\n",
              "          google.colab.kernel.accessAllowed ? 'block' : 'none';\n",
              "\n",
              "        async function convertToInteractive(key) {\n",
              "          const element = document.querySelector('#df-5f4c82d0-fe6c-4b9f-bb17-6c771baa7dbe');\n",
              "          const dataTable =\n",
              "            await google.colab.kernel.invokeFunction('convertToInteractive',\n",
              "                                                     [key], {});\n",
              "          if (!dataTable) return;\n",
              "\n",
              "          const docLinkHtml = 'Like what you see? Visit the ' +\n",
              "            '<a target=\"_blank\" href=https://colab.research.google.com/notebooks/data_table.ipynb>data table notebook</a>'\n",
              "            + ' to learn more about interactive tables.';\n",
              "          element.innerHTML = '';\n",
              "          dataTable['output_type'] = 'display_data';\n",
              "          await google.colab.output.renderOutput(dataTable, element);\n",
              "          const docLink = document.createElement('div');\n",
              "          docLink.innerHTML = docLinkHtml;\n",
              "          element.appendChild(docLink);\n",
              "        }\n",
              "      </script>\n",
              "    </div>\n",
              "  </div>\n",
              "  "
            ]
          },
          "metadata": {},
          "execution_count": 82
        }
      ],
      "source": [
        "submission"
      ]
    },
    {
      "cell_type": "code",
      "execution_count": 82,
      "metadata": {
        "id": "zsTbaDtP0R6X"
      },
      "outputs": [],
      "source": []
    },
    {
      "cell_type": "code",
      "execution_count": 82,
      "metadata": {
        "id": "KnsliIQZ0R6Y"
      },
      "outputs": [],
      "source": []
    },
    {
      "cell_type": "code",
      "execution_count": 82,
      "metadata": {
        "id": "Jx_qsOwZ0R6Z"
      },
      "outputs": [],
      "source": []
    },
    {
      "cell_type": "code",
      "execution_count": 82,
      "metadata": {
        "id": "UjmER_jf0R6a"
      },
      "outputs": [],
      "source": []
    },
    {
      "cell_type": "code",
      "execution_count": 82,
      "metadata": {
        "id": "Jl92dHkV0R6a"
      },
      "outputs": [],
      "source": []
    },
    {
      "cell_type": "code",
      "execution_count": 82,
      "metadata": {
        "id": "qfK4M8Fi0R6b"
      },
      "outputs": [],
      "source": []
    },
    {
      "cell_type": "code",
      "execution_count": 82,
      "metadata": {
        "id": "kPMmCeo10R6c"
      },
      "outputs": [],
      "source": []
    },
    {
      "cell_type": "code",
      "execution_count": 82,
      "metadata": {
        "id": "ahnPnO720R6c"
      },
      "outputs": [],
      "source": []
    },
    {
      "cell_type": "code",
      "execution_count": 82,
      "metadata": {
        "id": "74vCiXP30R6d"
      },
      "outputs": [],
      "source": []
    },
    {
      "cell_type": "code",
      "execution_count": 82,
      "metadata": {
        "id": "jztRzLNk0R6d"
      },
      "outputs": [],
      "source": []
    },
    {
      "cell_type": "code",
      "execution_count": 82,
      "metadata": {
        "id": "deqiVBZl0R6e"
      },
      "outputs": [],
      "source": []
    },
    {
      "cell_type": "code",
      "execution_count": 82,
      "metadata": {
        "id": "K5OE4vHH0R6e"
      },
      "outputs": [],
      "source": []
    },
    {
      "cell_type": "code",
      "execution_count": 82,
      "metadata": {
        "id": "0d_TTDT-0R6f"
      },
      "outputs": [],
      "source": []
    },
    {
      "cell_type": "code",
      "execution_count": 82,
      "metadata": {
        "id": "Y7NGjGby0R6f"
      },
      "outputs": [],
      "source": []
    },
    {
      "cell_type": "code",
      "execution_count": 82,
      "metadata": {
        "id": "u5Mxr_mI0R6f"
      },
      "outputs": [],
      "source": []
    },
    {
      "cell_type": "code",
      "execution_count": 82,
      "metadata": {
        "id": "JmMs0vod0R6g"
      },
      "outputs": [],
      "source": []
    },
    {
      "cell_type": "code",
      "execution_count": 82,
      "metadata": {
        "id": "KYFRWvF30R6g"
      },
      "outputs": [],
      "source": []
    },
    {
      "cell_type": "code",
      "execution_count": 82,
      "metadata": {
        "id": "_cLUO94s0R6h"
      },
      "outputs": [],
      "source": []
    },
    {
      "cell_type": "code",
      "execution_count": 82,
      "metadata": {
        "id": "vPmz8HqI0R6h"
      },
      "outputs": [],
      "source": []
    },
    {
      "cell_type": "code",
      "execution_count": 82,
      "metadata": {
        "id": "-jcB3dmt0R6i"
      },
      "outputs": [],
      "source": []
    },
    {
      "cell_type": "code",
      "execution_count": 82,
      "metadata": {
        "id": "6dnyMCnW0R6i"
      },
      "outputs": [],
      "source": []
    },
    {
      "cell_type": "code",
      "execution_count": 82,
      "metadata": {
        "id": "dbLrKa_I0R6j"
      },
      "outputs": [],
      "source": []
    },
    {
      "cell_type": "code",
      "execution_count": 82,
      "metadata": {
        "id": "9H60OVl_0R6j"
      },
      "outputs": [],
      "source": []
    },
    {
      "cell_type": "code",
      "execution_count": 82,
      "metadata": {
        "id": "qIjyqm950R6k"
      },
      "outputs": [],
      "source": []
    },
    {
      "cell_type": "code",
      "execution_count": 82,
      "metadata": {
        "id": "Oi0L5dYU0R6k"
      },
      "outputs": [],
      "source": []
    },
    {
      "cell_type": "code",
      "execution_count": 82,
      "metadata": {
        "id": "YzcD7J2h0R6l"
      },
      "outputs": [],
      "source": []
    },
    {
      "cell_type": "code",
      "execution_count": 82,
      "metadata": {
        "id": "Seyl6_yM0R6l"
      },
      "outputs": [],
      "source": []
    },
    {
      "cell_type": "code",
      "execution_count": 82,
      "metadata": {
        "id": "139J8BYF0R6m"
      },
      "outputs": [],
      "source": []
    },
    {
      "cell_type": "code",
      "execution_count": 82,
      "metadata": {
        "id": "C0m0hHkO0R6m"
      },
      "outputs": [],
      "source": []
    },
    {
      "cell_type": "code",
      "execution_count": 82,
      "metadata": {
        "id": "1ENgijst0R6n"
      },
      "outputs": [],
      "source": []
    },
    {
      "cell_type": "code",
      "execution_count": 82,
      "metadata": {
        "id": "6ZrpWjXT0R6n"
      },
      "outputs": [],
      "source": []
    },
    {
      "cell_type": "code",
      "execution_count": 82,
      "metadata": {
        "id": "AnJfr5O60R6o"
      },
      "outputs": [],
      "source": []
    },
    {
      "cell_type": "code",
      "execution_count": 82,
      "metadata": {
        "id": "kNXdeP6Z0R6o"
      },
      "outputs": [],
      "source": []
    },
    {
      "cell_type": "code",
      "execution_count": 82,
      "metadata": {
        "id": "RHfejgg00R6p"
      },
      "outputs": [],
      "source": []
    },
    {
      "cell_type": "code",
      "execution_count": 82,
      "metadata": {
        "id": "o8z7KVqd0R6p"
      },
      "outputs": [],
      "source": []
    },
    {
      "cell_type": "code",
      "execution_count": 82,
      "metadata": {
        "id": "v5kX9F3o0R6q"
      },
      "outputs": [],
      "source": []
    },
    {
      "cell_type": "code",
      "execution_count": 82,
      "metadata": {
        "id": "QhyRwS7T0R6r"
      },
      "outputs": [],
      "source": []
    },
    {
      "cell_type": "code",
      "execution_count": 82,
      "metadata": {
        "id": "IaOO3Aqv0R6r"
      },
      "outputs": [],
      "source": []
    },
    {
      "cell_type": "code",
      "execution_count": 82,
      "metadata": {
        "id": "ELrP3MjC0R6s"
      },
      "outputs": [],
      "source": []
    },
    {
      "cell_type": "code",
      "execution_count": 82,
      "metadata": {
        "id": "Bb2Dt71r0R6s"
      },
      "outputs": [],
      "source": []
    },
    {
      "cell_type": "code",
      "execution_count": 82,
      "metadata": {
        "id": "NoYY3nbz0R6t"
      },
      "outputs": [],
      "source": []
    },
    {
      "cell_type": "code",
      "execution_count": 82,
      "metadata": {
        "id": "59qWOzT_0R6u"
      },
      "outputs": [],
      "source": []
    },
    {
      "cell_type": "code",
      "execution_count": 82,
      "metadata": {
        "id": "KJz8mg8H0R6u"
      },
      "outputs": [],
      "source": []
    },
    {
      "cell_type": "code",
      "execution_count": 82,
      "metadata": {
        "id": "BviJpa1g0R6v"
      },
      "outputs": [],
      "source": []
    },
    {
      "cell_type": "code",
      "execution_count": 82,
      "metadata": {
        "id": "2F5TVoha0R6v"
      },
      "outputs": [],
      "source": []
    },
    {
      "cell_type": "code",
      "execution_count": 82,
      "metadata": {
        "id": "LukVHwoj0R6w"
      },
      "outputs": [],
      "source": []
    }
  ],
  "metadata": {
    "colab": {
      "provenance": []
    },
    "kernelspec": {
      "display_name": "Python 3 (ipykernel)",
      "language": "python",
      "name": "python3"
    },
    "language_info": {
      "codemirror_mode": {
        "name": "ipython",
        "version": 3
      },
      "file_extension": ".py",
      "mimetype": "text/x-python",
      "name": "python",
      "nbconvert_exporter": "python",
      "pygments_lexer": "ipython3",
      "version": "3.10.9"
    }
  },
  "nbformat": 4,
  "nbformat_minor": 0
}